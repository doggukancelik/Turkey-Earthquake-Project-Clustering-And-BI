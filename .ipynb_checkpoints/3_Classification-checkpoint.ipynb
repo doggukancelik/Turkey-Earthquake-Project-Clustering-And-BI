{
 "cells": [
  {
   "cell_type": "code",
   "execution_count": 639,
   "id": "146bd683",
   "metadata": {},
   "outputs": [],
   "source": [
    "import pandas as pd\n",
    "import numpy as np\n",
    "import matplotlib.pyplot as plt\n",
    "import seaborn as sns"
   ]
  },
  {
   "cell_type": "code",
   "execution_count": 640,
   "id": "ae8a6135",
   "metadata": {},
   "outputs": [],
   "source": [
    "df = pd.read_csv('data_2_label.csv', index_col=[0])"
   ]
  },
  {
   "cell_type": "code",
   "execution_count": 641,
   "id": "447b9e90",
   "metadata": {},
   "outputs": [
    {
     "data": {
      "text/html": [
       "<div>\n",
       "<style scoped>\n",
       "    .dataframe tbody tr th:only-of-type {\n",
       "        vertical-align: middle;\n",
       "    }\n",
       "\n",
       "    .dataframe tbody tr th {\n",
       "        vertical-align: top;\n",
       "    }\n",
       "\n",
       "    .dataframe thead th {\n",
       "        text-align: right;\n",
       "    }\n",
       "</style>\n",
       "<table border=\"1\" class=\"dataframe\">\n",
       "  <thead>\n",
       "    <tr style=\"text-align: right;\">\n",
       "      <th></th>\n",
       "      <th>Zaman-Origin Time UTC</th>\n",
       "      <th>Mag</th>\n",
       "      <th>Enlem-Latitude</th>\n",
       "      <th>Boylam-Longitude</th>\n",
       "      <th>Der-Depth(km)</th>\n",
       "      <th>labels_kmeans</th>\n",
       "    </tr>\n",
       "  </thead>\n",
       "  <tbody>\n",
       "    <tr>\n",
       "      <th>0</th>\n",
       "      <td>2023/03/03 23:30:46</td>\n",
       "      <td>3.4</td>\n",
       "      <td>37.9825</td>\n",
       "      <td>36.5964</td>\n",
       "      <td>A</td>\n",
       "      <td>0</td>\n",
       "    </tr>\n",
       "    <tr>\n",
       "      <th>1</th>\n",
       "      <td>2023/03/03 22:54:32</td>\n",
       "      <td>3.0</td>\n",
       "      <td>36.9131</td>\n",
       "      <td>36.5524</td>\n",
       "      <td>A</td>\n",
       "      <td>0</td>\n",
       "    </tr>\n",
       "    <tr>\n",
       "      <th>2</th>\n",
       "      <td>2023/03/03 22:03:15</td>\n",
       "      <td>2.8</td>\n",
       "      <td>37.3407</td>\n",
       "      <td>36.8353</td>\n",
       "      <td>A</td>\n",
       "      <td>0</td>\n",
       "    </tr>\n",
       "    <tr>\n",
       "      <th>3</th>\n",
       "      <td>2023/03/03 21:54:54</td>\n",
       "      <td>2.6</td>\n",
       "      <td>38.8568</td>\n",
       "      <td>27.2845</td>\n",
       "      <td>B</td>\n",
       "      <td>1</td>\n",
       "    </tr>\n",
       "    <tr>\n",
       "      <th>4</th>\n",
       "      <td>2023/03/03 21:48:49</td>\n",
       "      <td>3.1</td>\n",
       "      <td>38.0649</td>\n",
       "      <td>36.6330</td>\n",
       "      <td>A</td>\n",
       "      <td>0</td>\n",
       "    </tr>\n",
       "  </tbody>\n",
       "</table>\n",
       "</div>"
      ],
      "text/plain": [
       "  Zaman-Origin Time UTC  Mag  Enlem-Latitude  Boylam-Longitude Der-Depth(km)  \\\n",
       "0   2023/03/03 23:30:46  3.4         37.9825           36.5964             A   \n",
       "1   2023/03/03 22:54:32  3.0         36.9131           36.5524             A   \n",
       "2   2023/03/03 22:03:15  2.8         37.3407           36.8353             A   \n",
       "3   2023/03/03 21:54:54  2.6         38.8568           27.2845             B   \n",
       "4   2023/03/03 21:48:49  3.1         38.0649           36.6330             A   \n",
       "\n",
       "   labels_kmeans  \n",
       "0              0  \n",
       "1              0  \n",
       "2              0  \n",
       "3              1  \n",
       "4              0  "
      ]
     },
     "execution_count": 641,
     "metadata": {},
     "output_type": "execute_result"
    }
   ],
   "source": [
    "df.head()"
   ]
  },
  {
   "cell_type": "code",
   "execution_count": 642,
   "id": "e5eee8f1",
   "metadata": {},
   "outputs": [
    {
     "name": "stdout",
     "output_type": "stream",
     "text": [
      "<class 'pandas.core.frame.DataFrame'>\n",
      "Int64Index: 27975 entries, 0 to 29602\n",
      "Data columns (total 6 columns):\n",
      " #   Column                 Non-Null Count  Dtype  \n",
      "---  ------                 --------------  -----  \n",
      " 0   Zaman-Origin Time UTC  27975 non-null  object \n",
      " 1   Mag                    27975 non-null  float64\n",
      " 2   Enlem-Latitude         27975 non-null  float64\n",
      " 3   Boylam-Longitude       27975 non-null  float64\n",
      " 4   Der-Depth(km)          27975 non-null  object \n",
      " 5   labels_kmeans          27975 non-null  int64  \n",
      "dtypes: float64(3), int64(1), object(2)\n",
      "memory usage: 1.5+ MB\n"
     ]
    }
   ],
   "source": [
    "df.info()"
   ]
  },
  {
   "cell_type": "markdown",
   "id": "0c5c28ee",
   "metadata": {},
   "source": [
    "#### RITCHER OLCEĞI"
   ]
  },
  {
   "cell_type": "code",
   "execution_count": 643,
   "id": "950bdbc3",
   "metadata": {},
   "outputs": [],
   "source": [
    "df.drop(df[df.Mag <2].index, inplace=True)"
   ]
  },
  {
   "cell_type": "code",
   "execution_count": 644,
   "id": "d9047d10",
   "metadata": {},
   "outputs": [],
   "source": [
    "my_cond= (df['Mag'] >=2) & (df['Mag'] <4) \n",
    "replace= -1\n",
    "df['Mag'].mask(my_cond,replace,inplace=True) "
   ]
  },
  {
   "cell_type": "code",
   "execution_count": 645,
   "id": "bb5b1751",
   "metadata": {},
   "outputs": [],
   "source": [
    "my_cond= (df['Mag'] >=4) & (df['Mag'] <5) \n",
    "replace= -2\n",
    "df['Mag'].mask(my_cond,replace,inplace=True) "
   ]
  },
  {
   "cell_type": "code",
   "execution_count": 646,
   "id": "53a126c3",
   "metadata": {},
   "outputs": [],
   "source": [
    "my_cond= (df['Mag'] >=5) & (df['Mag'] <6) \n",
    "replace= -3\n",
    "df['Mag'].mask(my_cond,replace,inplace=True) "
   ]
  },
  {
   "cell_type": "code",
   "execution_count": 647,
   "id": "908c1052",
   "metadata": {},
   "outputs": [],
   "source": [
    "my_cond= (df['Mag'] >=6) & (df['Mag'] <7) \n",
    "replace= -4\n",
    "df['Mag'].mask(my_cond,replace,inplace=True) "
   ]
  },
  {
   "cell_type": "code",
   "execution_count": 648,
   "id": "c4966a9e",
   "metadata": {},
   "outputs": [],
   "source": [
    "my_cond= (df['Mag'] >=7) & (df['Mag'] <8) \n",
    "replace= -5\n",
    "df['Mag'].mask(my_cond,replace,inplace=True) "
   ]
  },
  {
   "cell_type": "code",
   "execution_count": 649,
   "id": "5da6c155",
   "metadata": {},
   "outputs": [
    {
     "data": {
      "text/plain": [
       "0       -1.0\n",
       "1       -1.0\n",
       "2       -1.0\n",
       "3       -1.0\n",
       "4       -1.0\n",
       "        ... \n",
       "29598   -1.0\n",
       "29599   -1.0\n",
       "29600   -1.0\n",
       "29601   -1.0\n",
       "29602   -1.0\n",
       "Name: Mag, Length: 24659, dtype: float64"
      ]
     },
     "execution_count": 649,
     "metadata": {},
     "output_type": "execute_result"
    }
   ],
   "source": [
    "df['Mag']"
   ]
  },
  {
   "cell_type": "code",
   "execution_count": 650,
   "id": "8c7a7326",
   "metadata": {},
   "outputs": [],
   "source": [
    "df['Mag'] = df['Mag'].replace(-5, 4).replace(-4,3).replace(-3,2).replace(-2,1).replace(-1,0)"
   ]
  },
  {
   "cell_type": "code",
   "execution_count": 651,
   "id": "317c07e2",
   "metadata": {},
   "outputs": [
    {
     "data": {
      "text/plain": [
       "0.0    22984\n",
       "1.0     1503\n",
       "2.0      156\n",
       "3.0       13\n",
       "4.0        3\n",
       "Name: Mag, dtype: int64"
      ]
     },
     "execution_count": 651,
     "metadata": {},
     "output_type": "execute_result"
    }
   ],
   "source": [
    "df['Mag'].value_counts()"
   ]
  },
  {
   "cell_type": "code",
   "execution_count": 652,
   "id": "2e90961d",
   "metadata": {},
   "outputs": [],
   "source": [
    "df['Mag'] = df['Mag'].astype(\"int\")"
   ]
  },
  {
   "cell_type": "code",
   "execution_count": 653,
   "id": "6214f1fe",
   "metadata": {},
   "outputs": [
    {
     "data": {
      "application/vnd.plotly.v1+json": {
       "config": {
        "plotlyServerURL": "https://plot.ly"
       },
       "data": [
        {
         "domain": {
          "x": [
           0,
           1
          ],
          "y": [
           0,
           1
          ]
         },
         "hovertemplate": "value=%{value}<extra></extra>",
         "legendgroup": "",
         "name": "",
         "showlegend": false,
         "type": "pie",
         "values": [
          22984,
          1503,
          156,
          13,
          3
         ]
        }
       ],
       "layout": {
        "legend": {
         "tracegroupgap": 0
        },
        "margin": {
         "t": 60
        },
        "template": {
         "data": {
          "bar": [
           {
            "error_x": {
             "color": "#2a3f5f"
            },
            "error_y": {
             "color": "#2a3f5f"
            },
            "marker": {
             "line": {
              "color": "#E5ECF6",
              "width": 0.5
             },
             "pattern": {
              "fillmode": "overlay",
              "size": 10,
              "solidity": 0.2
             }
            },
            "type": "bar"
           }
          ],
          "barpolar": [
           {
            "marker": {
             "line": {
              "color": "#E5ECF6",
              "width": 0.5
             },
             "pattern": {
              "fillmode": "overlay",
              "size": 10,
              "solidity": 0.2
             }
            },
            "type": "barpolar"
           }
          ],
          "carpet": [
           {
            "aaxis": {
             "endlinecolor": "#2a3f5f",
             "gridcolor": "white",
             "linecolor": "white",
             "minorgridcolor": "white",
             "startlinecolor": "#2a3f5f"
            },
            "baxis": {
             "endlinecolor": "#2a3f5f",
             "gridcolor": "white",
             "linecolor": "white",
             "minorgridcolor": "white",
             "startlinecolor": "#2a3f5f"
            },
            "type": "carpet"
           }
          ],
          "choropleth": [
           {
            "colorbar": {
             "outlinewidth": 0,
             "ticks": ""
            },
            "type": "choropleth"
           }
          ],
          "contour": [
           {
            "colorbar": {
             "outlinewidth": 0,
             "ticks": ""
            },
            "colorscale": [
             [
              0,
              "#0d0887"
             ],
             [
              0.1111111111111111,
              "#46039f"
             ],
             [
              0.2222222222222222,
              "#7201a8"
             ],
             [
              0.3333333333333333,
              "#9c179e"
             ],
             [
              0.4444444444444444,
              "#bd3786"
             ],
             [
              0.5555555555555556,
              "#d8576b"
             ],
             [
              0.6666666666666666,
              "#ed7953"
             ],
             [
              0.7777777777777778,
              "#fb9f3a"
             ],
             [
              0.8888888888888888,
              "#fdca26"
             ],
             [
              1,
              "#f0f921"
             ]
            ],
            "type": "contour"
           }
          ],
          "contourcarpet": [
           {
            "colorbar": {
             "outlinewidth": 0,
             "ticks": ""
            },
            "type": "contourcarpet"
           }
          ],
          "heatmap": [
           {
            "colorbar": {
             "outlinewidth": 0,
             "ticks": ""
            },
            "colorscale": [
             [
              0,
              "#0d0887"
             ],
             [
              0.1111111111111111,
              "#46039f"
             ],
             [
              0.2222222222222222,
              "#7201a8"
             ],
             [
              0.3333333333333333,
              "#9c179e"
             ],
             [
              0.4444444444444444,
              "#bd3786"
             ],
             [
              0.5555555555555556,
              "#d8576b"
             ],
             [
              0.6666666666666666,
              "#ed7953"
             ],
             [
              0.7777777777777778,
              "#fb9f3a"
             ],
             [
              0.8888888888888888,
              "#fdca26"
             ],
             [
              1,
              "#f0f921"
             ]
            ],
            "type": "heatmap"
           }
          ],
          "heatmapgl": [
           {
            "colorbar": {
             "outlinewidth": 0,
             "ticks": ""
            },
            "colorscale": [
             [
              0,
              "#0d0887"
             ],
             [
              0.1111111111111111,
              "#46039f"
             ],
             [
              0.2222222222222222,
              "#7201a8"
             ],
             [
              0.3333333333333333,
              "#9c179e"
             ],
             [
              0.4444444444444444,
              "#bd3786"
             ],
             [
              0.5555555555555556,
              "#d8576b"
             ],
             [
              0.6666666666666666,
              "#ed7953"
             ],
             [
              0.7777777777777778,
              "#fb9f3a"
             ],
             [
              0.8888888888888888,
              "#fdca26"
             ],
             [
              1,
              "#f0f921"
             ]
            ],
            "type": "heatmapgl"
           }
          ],
          "histogram": [
           {
            "marker": {
             "pattern": {
              "fillmode": "overlay",
              "size": 10,
              "solidity": 0.2
             }
            },
            "type": "histogram"
           }
          ],
          "histogram2d": [
           {
            "colorbar": {
             "outlinewidth": 0,
             "ticks": ""
            },
            "colorscale": [
             [
              0,
              "#0d0887"
             ],
             [
              0.1111111111111111,
              "#46039f"
             ],
             [
              0.2222222222222222,
              "#7201a8"
             ],
             [
              0.3333333333333333,
              "#9c179e"
             ],
             [
              0.4444444444444444,
              "#bd3786"
             ],
             [
              0.5555555555555556,
              "#d8576b"
             ],
             [
              0.6666666666666666,
              "#ed7953"
             ],
             [
              0.7777777777777778,
              "#fb9f3a"
             ],
             [
              0.8888888888888888,
              "#fdca26"
             ],
             [
              1,
              "#f0f921"
             ]
            ],
            "type": "histogram2d"
           }
          ],
          "histogram2dcontour": [
           {
            "colorbar": {
             "outlinewidth": 0,
             "ticks": ""
            },
            "colorscale": [
             [
              0,
              "#0d0887"
             ],
             [
              0.1111111111111111,
              "#46039f"
             ],
             [
              0.2222222222222222,
              "#7201a8"
             ],
             [
              0.3333333333333333,
              "#9c179e"
             ],
             [
              0.4444444444444444,
              "#bd3786"
             ],
             [
              0.5555555555555556,
              "#d8576b"
             ],
             [
              0.6666666666666666,
              "#ed7953"
             ],
             [
              0.7777777777777778,
              "#fb9f3a"
             ],
             [
              0.8888888888888888,
              "#fdca26"
             ],
             [
              1,
              "#f0f921"
             ]
            ],
            "type": "histogram2dcontour"
           }
          ],
          "mesh3d": [
           {
            "colorbar": {
             "outlinewidth": 0,
             "ticks": ""
            },
            "type": "mesh3d"
           }
          ],
          "parcoords": [
           {
            "line": {
             "colorbar": {
              "outlinewidth": 0,
              "ticks": ""
             }
            },
            "type": "parcoords"
           }
          ],
          "pie": [
           {
            "automargin": true,
            "type": "pie"
           }
          ],
          "scatter": [
           {
            "fillpattern": {
             "fillmode": "overlay",
             "size": 10,
             "solidity": 0.2
            },
            "type": "scatter"
           }
          ],
          "scatter3d": [
           {
            "line": {
             "colorbar": {
              "outlinewidth": 0,
              "ticks": ""
             }
            },
            "marker": {
             "colorbar": {
              "outlinewidth": 0,
              "ticks": ""
             }
            },
            "type": "scatter3d"
           }
          ],
          "scattercarpet": [
           {
            "marker": {
             "colorbar": {
              "outlinewidth": 0,
              "ticks": ""
             }
            },
            "type": "scattercarpet"
           }
          ],
          "scattergeo": [
           {
            "marker": {
             "colorbar": {
              "outlinewidth": 0,
              "ticks": ""
             }
            },
            "type": "scattergeo"
           }
          ],
          "scattergl": [
           {
            "marker": {
             "colorbar": {
              "outlinewidth": 0,
              "ticks": ""
             }
            },
            "type": "scattergl"
           }
          ],
          "scattermapbox": [
           {
            "marker": {
             "colorbar": {
              "outlinewidth": 0,
              "ticks": ""
             }
            },
            "type": "scattermapbox"
           }
          ],
          "scatterpolar": [
           {
            "marker": {
             "colorbar": {
              "outlinewidth": 0,
              "ticks": ""
             }
            },
            "type": "scatterpolar"
           }
          ],
          "scatterpolargl": [
           {
            "marker": {
             "colorbar": {
              "outlinewidth": 0,
              "ticks": ""
             }
            },
            "type": "scatterpolargl"
           }
          ],
          "scatterternary": [
           {
            "marker": {
             "colorbar": {
              "outlinewidth": 0,
              "ticks": ""
             }
            },
            "type": "scatterternary"
           }
          ],
          "surface": [
           {
            "colorbar": {
             "outlinewidth": 0,
             "ticks": ""
            },
            "colorscale": [
             [
              0,
              "#0d0887"
             ],
             [
              0.1111111111111111,
              "#46039f"
             ],
             [
              0.2222222222222222,
              "#7201a8"
             ],
             [
              0.3333333333333333,
              "#9c179e"
             ],
             [
              0.4444444444444444,
              "#bd3786"
             ],
             [
              0.5555555555555556,
              "#d8576b"
             ],
             [
              0.6666666666666666,
              "#ed7953"
             ],
             [
              0.7777777777777778,
              "#fb9f3a"
             ],
             [
              0.8888888888888888,
              "#fdca26"
             ],
             [
              1,
              "#f0f921"
             ]
            ],
            "type": "surface"
           }
          ],
          "table": [
           {
            "cells": {
             "fill": {
              "color": "#EBF0F8"
             },
             "line": {
              "color": "white"
             }
            },
            "header": {
             "fill": {
              "color": "#C8D4E3"
             },
             "line": {
              "color": "white"
             }
            },
            "type": "table"
           }
          ]
         },
         "layout": {
          "annotationdefaults": {
           "arrowcolor": "#2a3f5f",
           "arrowhead": 0,
           "arrowwidth": 1
          },
          "autotypenumbers": "strict",
          "coloraxis": {
           "colorbar": {
            "outlinewidth": 0,
            "ticks": ""
           }
          },
          "colorscale": {
           "diverging": [
            [
             0,
             "#8e0152"
            ],
            [
             0.1,
             "#c51b7d"
            ],
            [
             0.2,
             "#de77ae"
            ],
            [
             0.3,
             "#f1b6da"
            ],
            [
             0.4,
             "#fde0ef"
            ],
            [
             0.5,
             "#f7f7f7"
            ],
            [
             0.6,
             "#e6f5d0"
            ],
            [
             0.7,
             "#b8e186"
            ],
            [
             0.8,
             "#7fbc41"
            ],
            [
             0.9,
             "#4d9221"
            ],
            [
             1,
             "#276419"
            ]
           ],
           "sequential": [
            [
             0,
             "#0d0887"
            ],
            [
             0.1111111111111111,
             "#46039f"
            ],
            [
             0.2222222222222222,
             "#7201a8"
            ],
            [
             0.3333333333333333,
             "#9c179e"
            ],
            [
             0.4444444444444444,
             "#bd3786"
            ],
            [
             0.5555555555555556,
             "#d8576b"
            ],
            [
             0.6666666666666666,
             "#ed7953"
            ],
            [
             0.7777777777777778,
             "#fb9f3a"
            ],
            [
             0.8888888888888888,
             "#fdca26"
            ],
            [
             1,
             "#f0f921"
            ]
           ],
           "sequentialminus": [
            [
             0,
             "#0d0887"
            ],
            [
             0.1111111111111111,
             "#46039f"
            ],
            [
             0.2222222222222222,
             "#7201a8"
            ],
            [
             0.3333333333333333,
             "#9c179e"
            ],
            [
             0.4444444444444444,
             "#bd3786"
            ],
            [
             0.5555555555555556,
             "#d8576b"
            ],
            [
             0.6666666666666666,
             "#ed7953"
            ],
            [
             0.7777777777777778,
             "#fb9f3a"
            ],
            [
             0.8888888888888888,
             "#fdca26"
            ],
            [
             1,
             "#f0f921"
            ]
           ]
          },
          "colorway": [
           "#636efa",
           "#EF553B",
           "#00cc96",
           "#ab63fa",
           "#FFA15A",
           "#19d3f3",
           "#FF6692",
           "#B6E880",
           "#FF97FF",
           "#FECB52"
          ],
          "font": {
           "color": "#2a3f5f"
          },
          "geo": {
           "bgcolor": "white",
           "lakecolor": "white",
           "landcolor": "#E5ECF6",
           "showlakes": true,
           "showland": true,
           "subunitcolor": "white"
          },
          "hoverlabel": {
           "align": "left"
          },
          "hovermode": "closest",
          "mapbox": {
           "style": "light"
          },
          "paper_bgcolor": "white",
          "plot_bgcolor": "#E5ECF6",
          "polar": {
           "angularaxis": {
            "gridcolor": "white",
            "linecolor": "white",
            "ticks": ""
           },
           "bgcolor": "#E5ECF6",
           "radialaxis": {
            "gridcolor": "white",
            "linecolor": "white",
            "ticks": ""
           }
          },
          "scene": {
           "xaxis": {
            "backgroundcolor": "#E5ECF6",
            "gridcolor": "white",
            "gridwidth": 2,
            "linecolor": "white",
            "showbackground": true,
            "ticks": "",
            "zerolinecolor": "white"
           },
           "yaxis": {
            "backgroundcolor": "#E5ECF6",
            "gridcolor": "white",
            "gridwidth": 2,
            "linecolor": "white",
            "showbackground": true,
            "ticks": "",
            "zerolinecolor": "white"
           },
           "zaxis": {
            "backgroundcolor": "#E5ECF6",
            "gridcolor": "white",
            "gridwidth": 2,
            "linecolor": "white",
            "showbackground": true,
            "ticks": "",
            "zerolinecolor": "white"
           }
          },
          "shapedefaults": {
           "line": {
            "color": "#2a3f5f"
           }
          },
          "ternary": {
           "aaxis": {
            "gridcolor": "white",
            "linecolor": "white",
            "ticks": ""
           },
           "baxis": {
            "gridcolor": "white",
            "linecolor": "white",
            "ticks": ""
           },
           "bgcolor": "#E5ECF6",
           "caxis": {
            "gridcolor": "white",
            "linecolor": "white",
            "ticks": ""
           }
          },
          "title": {
           "x": 0.05
          },
          "xaxis": {
           "automargin": true,
           "gridcolor": "white",
           "linecolor": "white",
           "ticks": "",
           "title": {
            "standoff": 15
           },
           "zerolinecolor": "white",
           "zerolinewidth": 2
          },
          "yaxis": {
           "automargin": true,
           "gridcolor": "white",
           "linecolor": "white",
           "ticks": "",
           "title": {
            "standoff": 15
           },
           "zerolinecolor": "white",
           "zerolinewidth": 2
          }
         }
        }
       }
      },
      "text/html": [
       "<div>                            <div id=\"21246f4f-73d5-4461-b91d-2ab959092e8c\" class=\"plotly-graph-div\" style=\"height:525px; width:100%;\"></div>            <script type=\"text/javascript\">                require([\"plotly\"], function(Plotly) {                    window.PLOTLYENV=window.PLOTLYENV || {};                                    if (document.getElementById(\"21246f4f-73d5-4461-b91d-2ab959092e8c\")) {                    Plotly.newPlot(                        \"21246f4f-73d5-4461-b91d-2ab959092e8c\",                        [{\"domain\":{\"x\":[0.0,1.0],\"y\":[0.0,1.0]},\"hovertemplate\":\"value=%{value}<extra></extra>\",\"legendgroup\":\"\",\"name\":\"\",\"showlegend\":false,\"values\":[22984,1503,156,13,3],\"type\":\"pie\"}],                        {\"template\":{\"data\":{\"histogram2dcontour\":[{\"type\":\"histogram2dcontour\",\"colorbar\":{\"outlinewidth\":0,\"ticks\":\"\"},\"colorscale\":[[0.0,\"#0d0887\"],[0.1111111111111111,\"#46039f\"],[0.2222222222222222,\"#7201a8\"],[0.3333333333333333,\"#9c179e\"],[0.4444444444444444,\"#bd3786\"],[0.5555555555555556,\"#d8576b\"],[0.6666666666666666,\"#ed7953\"],[0.7777777777777778,\"#fb9f3a\"],[0.8888888888888888,\"#fdca26\"],[1.0,\"#f0f921\"]]}],\"choropleth\":[{\"type\":\"choropleth\",\"colorbar\":{\"outlinewidth\":0,\"ticks\":\"\"}}],\"histogram2d\":[{\"type\":\"histogram2d\",\"colorbar\":{\"outlinewidth\":0,\"ticks\":\"\"},\"colorscale\":[[0.0,\"#0d0887\"],[0.1111111111111111,\"#46039f\"],[0.2222222222222222,\"#7201a8\"],[0.3333333333333333,\"#9c179e\"],[0.4444444444444444,\"#bd3786\"],[0.5555555555555556,\"#d8576b\"],[0.6666666666666666,\"#ed7953\"],[0.7777777777777778,\"#fb9f3a\"],[0.8888888888888888,\"#fdca26\"],[1.0,\"#f0f921\"]]}],\"heatmap\":[{\"type\":\"heatmap\",\"colorbar\":{\"outlinewidth\":0,\"ticks\":\"\"},\"colorscale\":[[0.0,\"#0d0887\"],[0.1111111111111111,\"#46039f\"],[0.2222222222222222,\"#7201a8\"],[0.3333333333333333,\"#9c179e\"],[0.4444444444444444,\"#bd3786\"],[0.5555555555555556,\"#d8576b\"],[0.6666666666666666,\"#ed7953\"],[0.7777777777777778,\"#fb9f3a\"],[0.8888888888888888,\"#fdca26\"],[1.0,\"#f0f921\"]]}],\"heatmapgl\":[{\"type\":\"heatmapgl\",\"colorbar\":{\"outlinewidth\":0,\"ticks\":\"\"},\"colorscale\":[[0.0,\"#0d0887\"],[0.1111111111111111,\"#46039f\"],[0.2222222222222222,\"#7201a8\"],[0.3333333333333333,\"#9c179e\"],[0.4444444444444444,\"#bd3786\"],[0.5555555555555556,\"#d8576b\"],[0.6666666666666666,\"#ed7953\"],[0.7777777777777778,\"#fb9f3a\"],[0.8888888888888888,\"#fdca26\"],[1.0,\"#f0f921\"]]}],\"contourcarpet\":[{\"type\":\"contourcarpet\",\"colorbar\":{\"outlinewidth\":0,\"ticks\":\"\"}}],\"contour\":[{\"type\":\"contour\",\"colorbar\":{\"outlinewidth\":0,\"ticks\":\"\"},\"colorscale\":[[0.0,\"#0d0887\"],[0.1111111111111111,\"#46039f\"],[0.2222222222222222,\"#7201a8\"],[0.3333333333333333,\"#9c179e\"],[0.4444444444444444,\"#bd3786\"],[0.5555555555555556,\"#d8576b\"],[0.6666666666666666,\"#ed7953\"],[0.7777777777777778,\"#fb9f3a\"],[0.8888888888888888,\"#fdca26\"],[1.0,\"#f0f921\"]]}],\"surface\":[{\"type\":\"surface\",\"colorbar\":{\"outlinewidth\":0,\"ticks\":\"\"},\"colorscale\":[[0.0,\"#0d0887\"],[0.1111111111111111,\"#46039f\"],[0.2222222222222222,\"#7201a8\"],[0.3333333333333333,\"#9c179e\"],[0.4444444444444444,\"#bd3786\"],[0.5555555555555556,\"#d8576b\"],[0.6666666666666666,\"#ed7953\"],[0.7777777777777778,\"#fb9f3a\"],[0.8888888888888888,\"#fdca26\"],[1.0,\"#f0f921\"]]}],\"mesh3d\":[{\"type\":\"mesh3d\",\"colorbar\":{\"outlinewidth\":0,\"ticks\":\"\"}}],\"scatter\":[{\"fillpattern\":{\"fillmode\":\"overlay\",\"size\":10,\"solidity\":0.2},\"type\":\"scatter\"}],\"parcoords\":[{\"type\":\"parcoords\",\"line\":{\"colorbar\":{\"outlinewidth\":0,\"ticks\":\"\"}}}],\"scatterpolargl\":[{\"type\":\"scatterpolargl\",\"marker\":{\"colorbar\":{\"outlinewidth\":0,\"ticks\":\"\"}}}],\"bar\":[{\"error_x\":{\"color\":\"#2a3f5f\"},\"error_y\":{\"color\":\"#2a3f5f\"},\"marker\":{\"line\":{\"color\":\"#E5ECF6\",\"width\":0.5},\"pattern\":{\"fillmode\":\"overlay\",\"size\":10,\"solidity\":0.2}},\"type\":\"bar\"}],\"scattergeo\":[{\"type\":\"scattergeo\",\"marker\":{\"colorbar\":{\"outlinewidth\":0,\"ticks\":\"\"}}}],\"scatterpolar\":[{\"type\":\"scatterpolar\",\"marker\":{\"colorbar\":{\"outlinewidth\":0,\"ticks\":\"\"}}}],\"histogram\":[{\"marker\":{\"pattern\":{\"fillmode\":\"overlay\",\"size\":10,\"solidity\":0.2}},\"type\":\"histogram\"}],\"scattergl\":[{\"type\":\"scattergl\",\"marker\":{\"colorbar\":{\"outlinewidth\":0,\"ticks\":\"\"}}}],\"scatter3d\":[{\"type\":\"scatter3d\",\"line\":{\"colorbar\":{\"outlinewidth\":0,\"ticks\":\"\"}},\"marker\":{\"colorbar\":{\"outlinewidth\":0,\"ticks\":\"\"}}}],\"scattermapbox\":[{\"type\":\"scattermapbox\",\"marker\":{\"colorbar\":{\"outlinewidth\":0,\"ticks\":\"\"}}}],\"scatterternary\":[{\"type\":\"scatterternary\",\"marker\":{\"colorbar\":{\"outlinewidth\":0,\"ticks\":\"\"}}}],\"scattercarpet\":[{\"type\":\"scattercarpet\",\"marker\":{\"colorbar\":{\"outlinewidth\":0,\"ticks\":\"\"}}}],\"carpet\":[{\"aaxis\":{\"endlinecolor\":\"#2a3f5f\",\"gridcolor\":\"white\",\"linecolor\":\"white\",\"minorgridcolor\":\"white\",\"startlinecolor\":\"#2a3f5f\"},\"baxis\":{\"endlinecolor\":\"#2a3f5f\",\"gridcolor\":\"white\",\"linecolor\":\"white\",\"minorgridcolor\":\"white\",\"startlinecolor\":\"#2a3f5f\"},\"type\":\"carpet\"}],\"table\":[{\"cells\":{\"fill\":{\"color\":\"#EBF0F8\"},\"line\":{\"color\":\"white\"}},\"header\":{\"fill\":{\"color\":\"#C8D4E3\"},\"line\":{\"color\":\"white\"}},\"type\":\"table\"}],\"barpolar\":[{\"marker\":{\"line\":{\"color\":\"#E5ECF6\",\"width\":0.5},\"pattern\":{\"fillmode\":\"overlay\",\"size\":10,\"solidity\":0.2}},\"type\":\"barpolar\"}],\"pie\":[{\"automargin\":true,\"type\":\"pie\"}]},\"layout\":{\"autotypenumbers\":\"strict\",\"colorway\":[\"#636efa\",\"#EF553B\",\"#00cc96\",\"#ab63fa\",\"#FFA15A\",\"#19d3f3\",\"#FF6692\",\"#B6E880\",\"#FF97FF\",\"#FECB52\"],\"font\":{\"color\":\"#2a3f5f\"},\"hovermode\":\"closest\",\"hoverlabel\":{\"align\":\"left\"},\"paper_bgcolor\":\"white\",\"plot_bgcolor\":\"#E5ECF6\",\"polar\":{\"bgcolor\":\"#E5ECF6\",\"angularaxis\":{\"gridcolor\":\"white\",\"linecolor\":\"white\",\"ticks\":\"\"},\"radialaxis\":{\"gridcolor\":\"white\",\"linecolor\":\"white\",\"ticks\":\"\"}},\"ternary\":{\"bgcolor\":\"#E5ECF6\",\"aaxis\":{\"gridcolor\":\"white\",\"linecolor\":\"white\",\"ticks\":\"\"},\"baxis\":{\"gridcolor\":\"white\",\"linecolor\":\"white\",\"ticks\":\"\"},\"caxis\":{\"gridcolor\":\"white\",\"linecolor\":\"white\",\"ticks\":\"\"}},\"coloraxis\":{\"colorbar\":{\"outlinewidth\":0,\"ticks\":\"\"}},\"colorscale\":{\"sequential\":[[0.0,\"#0d0887\"],[0.1111111111111111,\"#46039f\"],[0.2222222222222222,\"#7201a8\"],[0.3333333333333333,\"#9c179e\"],[0.4444444444444444,\"#bd3786\"],[0.5555555555555556,\"#d8576b\"],[0.6666666666666666,\"#ed7953\"],[0.7777777777777778,\"#fb9f3a\"],[0.8888888888888888,\"#fdca26\"],[1.0,\"#f0f921\"]],\"sequentialminus\":[[0.0,\"#0d0887\"],[0.1111111111111111,\"#46039f\"],[0.2222222222222222,\"#7201a8\"],[0.3333333333333333,\"#9c179e\"],[0.4444444444444444,\"#bd3786\"],[0.5555555555555556,\"#d8576b\"],[0.6666666666666666,\"#ed7953\"],[0.7777777777777778,\"#fb9f3a\"],[0.8888888888888888,\"#fdca26\"],[1.0,\"#f0f921\"]],\"diverging\":[[0,\"#8e0152\"],[0.1,\"#c51b7d\"],[0.2,\"#de77ae\"],[0.3,\"#f1b6da\"],[0.4,\"#fde0ef\"],[0.5,\"#f7f7f7\"],[0.6,\"#e6f5d0\"],[0.7,\"#b8e186\"],[0.8,\"#7fbc41\"],[0.9,\"#4d9221\"],[1,\"#276419\"]]},\"xaxis\":{\"gridcolor\":\"white\",\"linecolor\":\"white\",\"ticks\":\"\",\"title\":{\"standoff\":15},\"zerolinecolor\":\"white\",\"automargin\":true,\"zerolinewidth\":2},\"yaxis\":{\"gridcolor\":\"white\",\"linecolor\":\"white\",\"ticks\":\"\",\"title\":{\"standoff\":15},\"zerolinecolor\":\"white\",\"automargin\":true,\"zerolinewidth\":2},\"scene\":{\"xaxis\":{\"backgroundcolor\":\"#E5ECF6\",\"gridcolor\":\"white\",\"linecolor\":\"white\",\"showbackground\":true,\"ticks\":\"\",\"zerolinecolor\":\"white\",\"gridwidth\":2},\"yaxis\":{\"backgroundcolor\":\"#E5ECF6\",\"gridcolor\":\"white\",\"linecolor\":\"white\",\"showbackground\":true,\"ticks\":\"\",\"zerolinecolor\":\"white\",\"gridwidth\":2},\"zaxis\":{\"backgroundcolor\":\"#E5ECF6\",\"gridcolor\":\"white\",\"linecolor\":\"white\",\"showbackground\":true,\"ticks\":\"\",\"zerolinecolor\":\"white\",\"gridwidth\":2}},\"shapedefaults\":{\"line\":{\"color\":\"#2a3f5f\"}},\"annotationdefaults\":{\"arrowcolor\":\"#2a3f5f\",\"arrowhead\":0,\"arrowwidth\":1},\"geo\":{\"bgcolor\":\"white\",\"landcolor\":\"#E5ECF6\",\"subunitcolor\":\"white\",\"showland\":true,\"showlakes\":true,\"lakecolor\":\"white\"},\"title\":{\"x\":0.05},\"mapbox\":{\"style\":\"light\"}}},\"legend\":{\"tracegroupgap\":0},\"margin\":{\"t\":60}},                        {\"responsive\": true}                    ).then(function(){\n",
       "                            \n",
       "var gd = document.getElementById('21246f4f-73d5-4461-b91d-2ab959092e8c');\n",
       "var x = new MutationObserver(function (mutations, observer) {{\n",
       "        var display = window.getComputedStyle(gd).display;\n",
       "        if (!display || display === 'none') {{\n",
       "            console.log([gd, 'removed!']);\n",
       "            Plotly.purge(gd);\n",
       "            observer.disconnect();\n",
       "        }}\n",
       "}});\n",
       "\n",
       "// Listen for the removal of the full notebook cells\n",
       "var notebookContainer = gd.closest('#notebook-container');\n",
       "if (notebookContainer) {{\n",
       "    x.observe(notebookContainer, {childList: true});\n",
       "}}\n",
       "\n",
       "// Listen for the clearing of the current output cell\n",
       "var outputEl = gd.closest('.output');\n",
       "if (outputEl) {{\n",
       "    x.observe(outputEl, {childList: true});\n",
       "}}\n",
       "\n",
       "                        })                };                });            </script>        </div>"
      ]
     },
     "metadata": {},
     "output_type": "display_data"
    }
   ],
   "source": [
    "import plotly.express as px\n",
    "fig = px.pie(df['Mag'], values=df['Mag'].value_counts())\n",
    "fig.show()"
   ]
  },
  {
   "cell_type": "code",
   "execution_count": 654,
   "id": "d2c9c847",
   "metadata": {},
   "outputs": [
    {
     "data": {
      "text/html": [
       "<div>\n",
       "<style scoped>\n",
       "    .dataframe tbody tr th:only-of-type {\n",
       "        vertical-align: middle;\n",
       "    }\n",
       "\n",
       "    .dataframe tbody tr th {\n",
       "        vertical-align: top;\n",
       "    }\n",
       "\n",
       "    .dataframe thead th {\n",
       "        text-align: right;\n",
       "    }\n",
       "</style>\n",
       "<table border=\"1\" class=\"dataframe\">\n",
       "  <thead>\n",
       "    <tr style=\"text-align: right;\">\n",
       "      <th></th>\n",
       "      <th>Zaman-Origin Time UTC</th>\n",
       "      <th>Mag</th>\n",
       "      <th>Enlem-Latitude</th>\n",
       "      <th>Boylam-Longitude</th>\n",
       "      <th>Der-Depth(km)</th>\n",
       "      <th>labels_kmeans</th>\n",
       "    </tr>\n",
       "  </thead>\n",
       "  <tbody>\n",
       "    <tr>\n",
       "      <th>0</th>\n",
       "      <td>2023/03/03 23:30:46</td>\n",
       "      <td>0</td>\n",
       "      <td>37.9825</td>\n",
       "      <td>36.5964</td>\n",
       "      <td>A</td>\n",
       "      <td>0</td>\n",
       "    </tr>\n",
       "    <tr>\n",
       "      <th>1</th>\n",
       "      <td>2023/03/03 22:54:32</td>\n",
       "      <td>0</td>\n",
       "      <td>36.9131</td>\n",
       "      <td>36.5524</td>\n",
       "      <td>A</td>\n",
       "      <td>0</td>\n",
       "    </tr>\n",
       "    <tr>\n",
       "      <th>2</th>\n",
       "      <td>2023/03/03 22:03:15</td>\n",
       "      <td>0</td>\n",
       "      <td>37.3407</td>\n",
       "      <td>36.8353</td>\n",
       "      <td>A</td>\n",
       "      <td>0</td>\n",
       "    </tr>\n",
       "    <tr>\n",
       "      <th>3</th>\n",
       "      <td>2023/03/03 21:54:54</td>\n",
       "      <td>0</td>\n",
       "      <td>38.8568</td>\n",
       "      <td>27.2845</td>\n",
       "      <td>B</td>\n",
       "      <td>1</td>\n",
       "    </tr>\n",
       "    <tr>\n",
       "      <th>4</th>\n",
       "      <td>2023/03/03 21:48:49</td>\n",
       "      <td>0</td>\n",
       "      <td>38.0649</td>\n",
       "      <td>36.6330</td>\n",
       "      <td>A</td>\n",
       "      <td>0</td>\n",
       "    </tr>\n",
       "    <tr>\n",
       "      <th>...</th>\n",
       "      <td>...</td>\n",
       "      <td>...</td>\n",
       "      <td>...</td>\n",
       "      <td>...</td>\n",
       "      <td>...</td>\n",
       "      <td>...</td>\n",
       "    </tr>\n",
       "    <tr>\n",
       "      <th>29598</th>\n",
       "      <td>2011/10/22 09:56:00</td>\n",
       "      <td>0</td>\n",
       "      <td>38.9200</td>\n",
       "      <td>42.4000</td>\n",
       "      <td>B</td>\n",
       "      <td>2</td>\n",
       "    </tr>\n",
       "    <tr>\n",
       "      <th>29599</th>\n",
       "      <td>2011/10/21 17:49:57</td>\n",
       "      <td>0</td>\n",
       "      <td>40.9500</td>\n",
       "      <td>42.7300</td>\n",
       "      <td>B</td>\n",
       "      <td>2</td>\n",
       "    </tr>\n",
       "    <tr>\n",
       "      <th>29600</th>\n",
       "      <td>2011/10/21 07:51:30</td>\n",
       "      <td>0</td>\n",
       "      <td>38.0500</td>\n",
       "      <td>27.1600</td>\n",
       "      <td>B</td>\n",
       "      <td>5</td>\n",
       "    </tr>\n",
       "    <tr>\n",
       "      <th>29601</th>\n",
       "      <td>2011/10/21 05:12:27</td>\n",
       "      <td>0</td>\n",
       "      <td>40.9400</td>\n",
       "      <td>27.8800</td>\n",
       "      <td>B</td>\n",
       "      <td>4</td>\n",
       "    </tr>\n",
       "    <tr>\n",
       "      <th>29602</th>\n",
       "      <td>2011/10/20 18:33:10</td>\n",
       "      <td>0</td>\n",
       "      <td>36.1500</td>\n",
       "      <td>29.5500</td>\n",
       "      <td>C</td>\n",
       "      <td>5</td>\n",
       "    </tr>\n",
       "  </tbody>\n",
       "</table>\n",
       "<p>24659 rows × 6 columns</p>\n",
       "</div>"
      ],
      "text/plain": [
       "      Zaman-Origin Time UTC  Mag  Enlem-Latitude  Boylam-Longitude  \\\n",
       "0       2023/03/03 23:30:46    0         37.9825           36.5964   \n",
       "1       2023/03/03 22:54:32    0         36.9131           36.5524   \n",
       "2       2023/03/03 22:03:15    0         37.3407           36.8353   \n",
       "3       2023/03/03 21:54:54    0         38.8568           27.2845   \n",
       "4       2023/03/03 21:48:49    0         38.0649           36.6330   \n",
       "...                     ...  ...             ...               ...   \n",
       "29598   2011/10/22 09:56:00    0         38.9200           42.4000   \n",
       "29599   2011/10/21 17:49:57    0         40.9500           42.7300   \n",
       "29600   2011/10/21 07:51:30    0         38.0500           27.1600   \n",
       "29601   2011/10/21 05:12:27    0         40.9400           27.8800   \n",
       "29602   2011/10/20 18:33:10    0         36.1500           29.5500   \n",
       "\n",
       "      Der-Depth(km)  labels_kmeans  \n",
       "0                 A              0  \n",
       "1                 A              0  \n",
       "2                 A              0  \n",
       "3                 B              1  \n",
       "4                 A              0  \n",
       "...             ...            ...  \n",
       "29598             B              2  \n",
       "29599             B              2  \n",
       "29600             B              5  \n",
       "29601             B              4  \n",
       "29602             C              5  \n",
       "\n",
       "[24659 rows x 6 columns]"
      ]
     },
     "execution_count": 654,
     "metadata": {},
     "output_type": "execute_result"
    }
   ],
   "source": [
    "df"
   ]
  },
  {
   "cell_type": "code",
   "execution_count": 655,
   "id": "b8ff65c2",
   "metadata": {},
   "outputs": [],
   "source": [
    "df = pd.concat([df , df[df['Mag'] == 3 ]] , ignore_index=True)\n",
    "df = pd.concat([df , df[df['Mag'] == 3 ]] , ignore_index=True)\n",
    "\n",
    "df = pd.concat([df , df[df['Mag'] == 4 ]] , ignore_index=True)\n",
    "df = pd.concat([df , df[df['Mag'] == 4 ]] , ignore_index=True)\n",
    "df = pd.concat([df , df[df['Mag'] == 4 ]] , ignore_index=True)\n",
    "df = pd.concat([df , df[df['Mag'] == 4 ]] , ignore_index=True)"
   ]
  },
  {
   "cell_type": "code",
   "execution_count": 656,
   "id": "60fc9172",
   "metadata": {},
   "outputs": [],
   "source": [
    "df = pd.concat([df , df[df['Mag'] == 3 ]] , ignore_index=True)"
   ]
  },
  {
   "cell_type": "code",
   "execution_count": null,
   "id": "3ea391fc",
   "metadata": {},
   "outputs": [],
   "source": []
  },
  {
   "cell_type": "code",
   "execution_count": null,
   "id": "57f31872",
   "metadata": {},
   "outputs": [],
   "source": []
  },
  {
   "cell_type": "code",
   "execution_count": 657,
   "id": "fbb5dd73",
   "metadata": {},
   "outputs": [
    {
     "data": {
      "text/plain": [
       "0    22984\n",
       "1     1503\n",
       "2      156\n",
       "3      104\n",
       "4       48\n",
       "Name: Mag, dtype: int64"
      ]
     },
     "execution_count": 657,
     "metadata": {},
     "output_type": "execute_result"
    }
   ],
   "source": [
    "df['Mag'].value_counts()"
   ]
  },
  {
   "cell_type": "code",
   "execution_count": 658,
   "id": "f37df9a7",
   "metadata": {},
   "outputs": [
    {
     "data": {
      "text/html": [
       "<div>\n",
       "<style scoped>\n",
       "    .dataframe tbody tr th:only-of-type {\n",
       "        vertical-align: middle;\n",
       "    }\n",
       "\n",
       "    .dataframe tbody tr th {\n",
       "        vertical-align: top;\n",
       "    }\n",
       "\n",
       "    .dataframe thead th {\n",
       "        text-align: right;\n",
       "    }\n",
       "</style>\n",
       "<table border=\"1\" class=\"dataframe\">\n",
       "  <thead>\n",
       "    <tr style=\"text-align: right;\">\n",
       "      <th></th>\n",
       "      <th>Zaman-Origin Time UTC</th>\n",
       "      <th>Mag</th>\n",
       "      <th>Enlem-Latitude</th>\n",
       "      <th>Boylam-Longitude</th>\n",
       "      <th>Der-Depth(km)</th>\n",
       "      <th>labels_kmeans</th>\n",
       "    </tr>\n",
       "  </thead>\n",
       "  <tbody>\n",
       "    <tr>\n",
       "      <th>0</th>\n",
       "      <td>2023/03/03 23:30:46</td>\n",
       "      <td>0</td>\n",
       "      <td>37.9825</td>\n",
       "      <td>36.5964</td>\n",
       "      <td>A</td>\n",
       "      <td>0</td>\n",
       "    </tr>\n",
       "    <tr>\n",
       "      <th>1</th>\n",
       "      <td>2023/03/03 22:54:32</td>\n",
       "      <td>0</td>\n",
       "      <td>36.9131</td>\n",
       "      <td>36.5524</td>\n",
       "      <td>A</td>\n",
       "      <td>0</td>\n",
       "    </tr>\n",
       "  </tbody>\n",
       "</table>\n",
       "</div>"
      ],
      "text/plain": [
       "  Zaman-Origin Time UTC  Mag  Enlem-Latitude  Boylam-Longitude Der-Depth(km)  \\\n",
       "0   2023/03/03 23:30:46    0         37.9825           36.5964             A   \n",
       "1   2023/03/03 22:54:32    0         36.9131           36.5524             A   \n",
       "\n",
       "   labels_kmeans  \n",
       "0              0  \n",
       "1              0  "
      ]
     },
     "execution_count": 658,
     "metadata": {},
     "output_type": "execute_result"
    }
   ],
   "source": [
    "df.head(2)"
   ]
  },
  {
   "cell_type": "code",
   "execution_count": 659,
   "id": "3932cce3",
   "metadata": {},
   "outputs": [],
   "source": [
    "df = df.sort_values(by=['Zaman-Origin Time UTC'],ascending=False)"
   ]
  },
  {
   "cell_type": "code",
   "execution_count": 660,
   "id": "019f95b8",
   "metadata": {},
   "outputs": [],
   "source": [
    "df.reset_index(drop=True, inplace=True)"
   ]
  },
  {
   "cell_type": "code",
   "execution_count": 661,
   "id": "946d63b0",
   "metadata": {},
   "outputs": [
    {
     "data": {
      "text/html": [
       "<div>\n",
       "<style scoped>\n",
       "    .dataframe tbody tr th:only-of-type {\n",
       "        vertical-align: middle;\n",
       "    }\n",
       "\n",
       "    .dataframe tbody tr th {\n",
       "        vertical-align: top;\n",
       "    }\n",
       "\n",
       "    .dataframe thead th {\n",
       "        text-align: right;\n",
       "    }\n",
       "</style>\n",
       "<table border=\"1\" class=\"dataframe\">\n",
       "  <thead>\n",
       "    <tr style=\"text-align: right;\">\n",
       "      <th></th>\n",
       "      <th>Zaman-Origin Time UTC</th>\n",
       "      <th>Mag</th>\n",
       "      <th>Enlem-Latitude</th>\n",
       "      <th>Boylam-Longitude</th>\n",
       "      <th>Der-Depth(km)</th>\n",
       "      <th>labels_kmeans</th>\n",
       "    </tr>\n",
       "  </thead>\n",
       "  <tbody>\n",
       "    <tr>\n",
       "      <th>0</th>\n",
       "      <td>2023/03/03 23:30:46</td>\n",
       "      <td>0</td>\n",
       "      <td>37.9825</td>\n",
       "      <td>36.5964</td>\n",
       "      <td>A</td>\n",
       "      <td>0</td>\n",
       "    </tr>\n",
       "    <tr>\n",
       "      <th>1</th>\n",
       "      <td>2023/03/03 22:54:32</td>\n",
       "      <td>0</td>\n",
       "      <td>36.9131</td>\n",
       "      <td>36.5524</td>\n",
       "      <td>A</td>\n",
       "      <td>0</td>\n",
       "    </tr>\n",
       "    <tr>\n",
       "      <th>2</th>\n",
       "      <td>2023/03/03 22:03:15</td>\n",
       "      <td>0</td>\n",
       "      <td>37.3407</td>\n",
       "      <td>36.8353</td>\n",
       "      <td>A</td>\n",
       "      <td>0</td>\n",
       "    </tr>\n",
       "  </tbody>\n",
       "</table>\n",
       "</div>"
      ],
      "text/plain": [
       "  Zaman-Origin Time UTC  Mag  Enlem-Latitude  Boylam-Longitude Der-Depth(km)  \\\n",
       "0   2023/03/03 23:30:46    0         37.9825           36.5964             A   \n",
       "1   2023/03/03 22:54:32    0         36.9131           36.5524             A   \n",
       "2   2023/03/03 22:03:15    0         37.3407           36.8353             A   \n",
       "\n",
       "   labels_kmeans  \n",
       "0              0  \n",
       "1              0  \n",
       "2              0  "
      ]
     },
     "execution_count": 661,
     "metadata": {},
     "output_type": "execute_result"
    }
   ],
   "source": [
    "df.head(3)"
   ]
  },
  {
   "cell_type": "code",
   "execution_count": 662,
   "id": "e7a70614",
   "metadata": {},
   "outputs": [
    {
     "name": "stdout",
     "output_type": "stream",
     "text": [
      "<class 'pandas.core.frame.DataFrame'>\n",
      "RangeIndex: 24795 entries, 0 to 24794\n",
      "Data columns (total 6 columns):\n",
      " #   Column                 Non-Null Count  Dtype  \n",
      "---  ------                 --------------  -----  \n",
      " 0   Zaman-Origin Time UTC  24795 non-null  object \n",
      " 1   Mag                    24795 non-null  int32  \n",
      " 2   Enlem-Latitude         24795 non-null  float64\n",
      " 3   Boylam-Longitude       24795 non-null  float64\n",
      " 4   Der-Depth(km)          24795 non-null  object \n",
      " 5   labels_kmeans          24795 non-null  int64  \n",
      "dtypes: float64(2), int32(1), int64(1), object(2)\n",
      "memory usage: 1.0+ MB\n"
     ]
    }
   ],
   "source": [
    "df.info()"
   ]
  },
  {
   "cell_type": "markdown",
   "id": "4bec7b0a",
   "metadata": {},
   "source": [
    "### Data Temizleme"
   ]
  },
  {
   "cell_type": "code",
   "execution_count": 663,
   "id": "292471a5",
   "metadata": {},
   "outputs": [],
   "source": [
    "df.columns = df.columns.str.replace('Mag', 'Siddet')"
   ]
  },
  {
   "cell_type": "code",
   "execution_count": 664,
   "id": "1ed34008",
   "metadata": {},
   "outputs": [],
   "source": [
    "df.columns = df.columns.str.replace('labels_kmeans', 'FayHattı')"
   ]
  },
  {
   "cell_type": "code",
   "execution_count": 665,
   "id": "b3ea2c00",
   "metadata": {},
   "outputs": [],
   "source": [
    "df.drop(\"Enlem-Latitude\" , axis=1 , inplace=True)\n",
    "df.drop(\"Boylam-Longitude\" , axis=1 , inplace=True)"
   ]
  },
  {
   "cell_type": "code",
   "execution_count": 666,
   "id": "41e3c645",
   "metadata": {},
   "outputs": [
    {
     "data": {
      "text/html": [
       "<div>\n",
       "<style scoped>\n",
       "    .dataframe tbody tr th:only-of-type {\n",
       "        vertical-align: middle;\n",
       "    }\n",
       "\n",
       "    .dataframe tbody tr th {\n",
       "        vertical-align: top;\n",
       "    }\n",
       "\n",
       "    .dataframe thead th {\n",
       "        text-align: right;\n",
       "    }\n",
       "</style>\n",
       "<table border=\"1\" class=\"dataframe\">\n",
       "  <thead>\n",
       "    <tr style=\"text-align: right;\">\n",
       "      <th></th>\n",
       "      <th>Zaman-Origin Time UTC</th>\n",
       "      <th>Siddet</th>\n",
       "      <th>Der-Depth(km)</th>\n",
       "      <th>FayHattı</th>\n",
       "    </tr>\n",
       "  </thead>\n",
       "  <tbody>\n",
       "    <tr>\n",
       "      <th>0</th>\n",
       "      <td>2023/03/03 23:30:46</td>\n",
       "      <td>0</td>\n",
       "      <td>A</td>\n",
       "      <td>0</td>\n",
       "    </tr>\n",
       "    <tr>\n",
       "      <th>1</th>\n",
       "      <td>2023/03/03 22:54:32</td>\n",
       "      <td>0</td>\n",
       "      <td>A</td>\n",
       "      <td>0</td>\n",
       "    </tr>\n",
       "    <tr>\n",
       "      <th>2</th>\n",
       "      <td>2023/03/03 22:03:15</td>\n",
       "      <td>0</td>\n",
       "      <td>A</td>\n",
       "      <td>0</td>\n",
       "    </tr>\n",
       "    <tr>\n",
       "      <th>3</th>\n",
       "      <td>2023/03/03 21:54:54</td>\n",
       "      <td>0</td>\n",
       "      <td>B</td>\n",
       "      <td>1</td>\n",
       "    </tr>\n",
       "    <tr>\n",
       "      <th>4</th>\n",
       "      <td>2023/03/03 21:48:49</td>\n",
       "      <td>0</td>\n",
       "      <td>A</td>\n",
       "      <td>0</td>\n",
       "    </tr>\n",
       "  </tbody>\n",
       "</table>\n",
       "</div>"
      ],
      "text/plain": [
       "  Zaman-Origin Time UTC  Siddet Der-Depth(km)  FayHattı\n",
       "0   2023/03/03 23:30:46       0             A         0\n",
       "1   2023/03/03 22:54:32       0             A         0\n",
       "2   2023/03/03 22:03:15       0             A         0\n",
       "3   2023/03/03 21:54:54       0             B         1\n",
       "4   2023/03/03 21:48:49       0             A         0"
      ]
     },
     "execution_count": 666,
     "metadata": {},
     "output_type": "execute_result"
    }
   ],
   "source": [
    "df.head(5)"
   ]
  },
  {
   "cell_type": "code",
   "execution_count": 667,
   "id": "10f08fff",
   "metadata": {},
   "outputs": [],
   "source": [
    "df['Der-Depth(km)'] = df['Der-Depth(km)'].replace('A', 0).replace('B',1).replace('C',2)"
   ]
  },
  {
   "cell_type": "markdown",
   "id": "67e657a5",
   "metadata": {},
   "source": [
    "#### Zaman Serileri Kavramından dolayı Datayı Manuel olarak Train Test Split Yapma"
   ]
  },
  {
   "cell_type": "code",
   "execution_count": 668,
   "id": "e266b727",
   "metadata": {},
   "outputs": [],
   "source": [
    "df_test = df[df[\"Zaman-Origin Time UTC\"] > \"2021\"] #2021+2022+2023"
   ]
  },
  {
   "cell_type": "code",
   "execution_count": 669,
   "id": "4720f82b",
   "metadata": {},
   "outputs": [
    {
     "data": {
      "text/html": [
       "<div>\n",
       "<style scoped>\n",
       "    .dataframe tbody tr th:only-of-type {\n",
       "        vertical-align: middle;\n",
       "    }\n",
       "\n",
       "    .dataframe tbody tr th {\n",
       "        vertical-align: top;\n",
       "    }\n",
       "\n",
       "    .dataframe thead th {\n",
       "        text-align: right;\n",
       "    }\n",
       "</style>\n",
       "<table border=\"1\" class=\"dataframe\">\n",
       "  <thead>\n",
       "    <tr style=\"text-align: right;\">\n",
       "      <th></th>\n",
       "      <th>Zaman-Origin Time UTC</th>\n",
       "      <th>Siddet</th>\n",
       "      <th>Der-Depth(km)</th>\n",
       "      <th>FayHattı</th>\n",
       "    </tr>\n",
       "  </thead>\n",
       "  <tbody>\n",
       "    <tr>\n",
       "      <th>5913</th>\n",
       "      <td>2021/01/01 12:19:08</td>\n",
       "      <td>0</td>\n",
       "      <td>0</td>\n",
       "      <td>3</td>\n",
       "    </tr>\n",
       "    <tr>\n",
       "      <th>5914</th>\n",
       "      <td>2021/01/01 11:53:38</td>\n",
       "      <td>0</td>\n",
       "      <td>1</td>\n",
       "      <td>5</td>\n",
       "    </tr>\n",
       "    <tr>\n",
       "      <th>5915</th>\n",
       "      <td>2021/01/01 10:12:35</td>\n",
       "      <td>0</td>\n",
       "      <td>0</td>\n",
       "      <td>1</td>\n",
       "    </tr>\n",
       "    <tr>\n",
       "      <th>5916</th>\n",
       "      <td>2021/01/01 03:06:26</td>\n",
       "      <td>0</td>\n",
       "      <td>0</td>\n",
       "      <td>3</td>\n",
       "    </tr>\n",
       "    <tr>\n",
       "      <th>5917</th>\n",
       "      <td>2021/01/01 03:00:47</td>\n",
       "      <td>0</td>\n",
       "      <td>0</td>\n",
       "      <td>5</td>\n",
       "    </tr>\n",
       "  </tbody>\n",
       "</table>\n",
       "</div>"
      ],
      "text/plain": [
       "     Zaman-Origin Time UTC  Siddet  Der-Depth(km)  FayHattı\n",
       "5913   2021/01/01 12:19:08       0              0         3\n",
       "5914   2021/01/01 11:53:38       0              1         5\n",
       "5915   2021/01/01 10:12:35       0              0         1\n",
       "5916   2021/01/01 03:06:26       0              0         3\n",
       "5917   2021/01/01 03:00:47       0              0         5"
      ]
     },
     "execution_count": 669,
     "metadata": {},
     "output_type": "execute_result"
    }
   ],
   "source": [
    "df_test.tail()"
   ]
  },
  {
   "cell_type": "code",
   "execution_count": 670,
   "id": "0409be1d",
   "metadata": {},
   "outputs": [],
   "source": [
    "X_test = df_test.drop([\"Siddet\" , 'Zaman-Origin Time UTC'] , axis=1)\n",
    "y_test = df_test[\"Siddet\"]"
   ]
  },
  {
   "cell_type": "code",
   "execution_count": 671,
   "id": "a5363bd4",
   "metadata": {},
   "outputs": [],
   "source": [
    "df_train = df[df[\"Zaman-Origin Time UTC\"] < \"2021\"]"
   ]
  },
  {
   "cell_type": "code",
   "execution_count": 672,
   "id": "633b2a6f",
   "metadata": {},
   "outputs": [
    {
     "data": {
      "text/html": [
       "<div>\n",
       "<style scoped>\n",
       "    .dataframe tbody tr th:only-of-type {\n",
       "        vertical-align: middle;\n",
       "    }\n",
       "\n",
       "    .dataframe tbody tr th {\n",
       "        vertical-align: top;\n",
       "    }\n",
       "\n",
       "    .dataframe thead th {\n",
       "        text-align: right;\n",
       "    }\n",
       "</style>\n",
       "<table border=\"1\" class=\"dataframe\">\n",
       "  <thead>\n",
       "    <tr style=\"text-align: right;\">\n",
       "      <th></th>\n",
       "      <th>Zaman-Origin Time UTC</th>\n",
       "      <th>Siddet</th>\n",
       "      <th>Der-Depth(km)</th>\n",
       "      <th>FayHattı</th>\n",
       "    </tr>\n",
       "  </thead>\n",
       "  <tbody>\n",
       "    <tr>\n",
       "      <th>5918</th>\n",
       "      <td>2020/12/31 23:10:43</td>\n",
       "      <td>0</td>\n",
       "      <td>0</td>\n",
       "      <td>1</td>\n",
       "    </tr>\n",
       "    <tr>\n",
       "      <th>5919</th>\n",
       "      <td>2020/12/31 16:44:19</td>\n",
       "      <td>0</td>\n",
       "      <td>1</td>\n",
       "      <td>1</td>\n",
       "    </tr>\n",
       "    <tr>\n",
       "      <th>5920</th>\n",
       "      <td>2020/12/31 00:51:26</td>\n",
       "      <td>0</td>\n",
       "      <td>0</td>\n",
       "      <td>5</td>\n",
       "    </tr>\n",
       "    <tr>\n",
       "      <th>5921</th>\n",
       "      <td>2020/12/30 22:21:16</td>\n",
       "      <td>0</td>\n",
       "      <td>0</td>\n",
       "      <td>0</td>\n",
       "    </tr>\n",
       "    <tr>\n",
       "      <th>5922</th>\n",
       "      <td>2020/12/30 20:44:02</td>\n",
       "      <td>0</td>\n",
       "      <td>0</td>\n",
       "      <td>5</td>\n",
       "    </tr>\n",
       "  </tbody>\n",
       "</table>\n",
       "</div>"
      ],
      "text/plain": [
       "     Zaman-Origin Time UTC  Siddet  Der-Depth(km)  FayHattı\n",
       "5918   2020/12/31 23:10:43       0              0         1\n",
       "5919   2020/12/31 16:44:19       0              1         1\n",
       "5920   2020/12/31 00:51:26       0              0         5\n",
       "5921   2020/12/30 22:21:16       0              0         0\n",
       "5922   2020/12/30 20:44:02       0              0         5"
      ]
     },
     "execution_count": 672,
     "metadata": {},
     "output_type": "execute_result"
    }
   ],
   "source": [
    "df_train.head()"
   ]
  },
  {
   "cell_type": "code",
   "execution_count": 673,
   "id": "ee1bae38",
   "metadata": {},
   "outputs": [],
   "source": [
    "X_train = df_train.drop([\"Siddet\" , 'Zaman-Origin Time UTC'] , axis=1)\n",
    "y_train = df_train[\"Siddet\"]"
   ]
  },
  {
   "cell_type": "code",
   "execution_count": 674,
   "id": "c5e1bc2e",
   "metadata": {},
   "outputs": [],
   "source": [
    "df.drop(\"Zaman-Origin Time UTC\" , axis=1 , inplace=True)"
   ]
  },
  {
   "cell_type": "code",
   "execution_count": 675,
   "id": "9e4b8849",
   "metadata": {},
   "outputs": [
    {
     "data": {
      "text/html": [
       "<div>\n",
       "<style scoped>\n",
       "    .dataframe tbody tr th:only-of-type {\n",
       "        vertical-align: middle;\n",
       "    }\n",
       "\n",
       "    .dataframe tbody tr th {\n",
       "        vertical-align: top;\n",
       "    }\n",
       "\n",
       "    .dataframe thead th {\n",
       "        text-align: right;\n",
       "    }\n",
       "</style>\n",
       "<table border=\"1\" class=\"dataframe\">\n",
       "  <thead>\n",
       "    <tr style=\"text-align: right;\">\n",
       "      <th></th>\n",
       "      <th>Der-Depth(km)</th>\n",
       "      <th>FayHattı</th>\n",
       "    </tr>\n",
       "  </thead>\n",
       "  <tbody>\n",
       "    <tr>\n",
       "      <th>5918</th>\n",
       "      <td>0</td>\n",
       "      <td>1</td>\n",
       "    </tr>\n",
       "    <tr>\n",
       "      <th>5919</th>\n",
       "      <td>1</td>\n",
       "      <td>1</td>\n",
       "    </tr>\n",
       "    <tr>\n",
       "      <th>5920</th>\n",
       "      <td>0</td>\n",
       "      <td>5</td>\n",
       "    </tr>\n",
       "    <tr>\n",
       "      <th>5921</th>\n",
       "      <td>0</td>\n",
       "      <td>0</td>\n",
       "    </tr>\n",
       "    <tr>\n",
       "      <th>5922</th>\n",
       "      <td>0</td>\n",
       "      <td>5</td>\n",
       "    </tr>\n",
       "  </tbody>\n",
       "</table>\n",
       "</div>"
      ],
      "text/plain": [
       "      Der-Depth(km)  FayHattı\n",
       "5918              0         1\n",
       "5919              1         1\n",
       "5920              0         5\n",
       "5921              0         0\n",
       "5922              0         5"
      ]
     },
     "execution_count": 675,
     "metadata": {},
     "output_type": "execute_result"
    }
   ],
   "source": [
    "X_train.head()"
   ]
  },
  {
   "cell_type": "code",
   "execution_count": 676,
   "id": "792b2b3f",
   "metadata": {},
   "outputs": [
    {
     "data": {
      "text/plain": [
       "5918    0\n",
       "5919    0\n",
       "5920    0\n",
       "5921    0\n",
       "5922    0\n",
       "Name: Siddet, dtype: int32"
      ]
     },
     "execution_count": 676,
     "metadata": {},
     "output_type": "execute_result"
    }
   ],
   "source": [
    "y_train.head()"
   ]
  },
  {
   "cell_type": "code",
   "execution_count": 677,
   "id": "230da3a5",
   "metadata": {},
   "outputs": [
    {
     "data": {
      "text/plain": [
       "(5918, 2)"
      ]
     },
     "execution_count": 677,
     "metadata": {},
     "output_type": "execute_result"
    }
   ],
   "source": [
    "X_test.shape"
   ]
  },
  {
   "cell_type": "code",
   "execution_count": 678,
   "id": "f1ef4d7a",
   "metadata": {},
   "outputs": [
    {
     "data": {
      "text/plain": [
       "(18877, 2)"
      ]
     },
     "execution_count": 678,
     "metadata": {},
     "output_type": "execute_result"
    }
   ],
   "source": [
    "X_train.shape"
   ]
  },
  {
   "cell_type": "code",
   "execution_count": null,
   "id": "c373edbd",
   "metadata": {},
   "outputs": [],
   "source": []
  },
  {
   "cell_type": "markdown",
   "id": "1c318814",
   "metadata": {},
   "source": [
    "###  OVERSAMPLING (Train Data)"
   ]
  },
  {
   "cell_type": "markdown",
   "id": "55a89472",
   "metadata": {},
   "source": [
    "* Bu bölümde Imbalanced Dataset ile farklı teknikler kullanarak nasıl düzeltilir sorusunun cevabını bulacağız.\n",
    "* Farklı teknikler sonrası yeni dataset'ler oluşturup modelleyeceğiz."
   ]
  },
  {
   "cell_type": "markdown",
   "id": "462b4943",
   "metadata": {},
   "source": [
    "#### 1 RandomOverSampler"
   ]
  },
  {
   "cell_type": "code",
   "execution_count": 679,
   "id": "6caf14e1",
   "metadata": {},
   "outputs": [],
   "source": [
    "from imblearn.over_sampling import RandomOverSampler"
   ]
  },
  {
   "cell_type": "code",
   "execution_count": 680,
   "id": "8178a58f",
   "metadata": {},
   "outputs": [],
   "source": [
    "os = RandomOverSampler(random_state=42)\n",
    "X_train_random , y_train_random = os.fit_sample(X_train, y_train)"
   ]
  },
  {
   "cell_type": "code",
   "execution_count": 681,
   "id": "40ec0912",
   "metadata": {},
   "outputs": [
    {
     "name": "stdout",
     "output_type": "stream",
     "text": [
      "Before OverSampling, the shape of train_X: (18877, 2)\n",
      "Before OverSampling, the shape of train_y: (18877,) \n",
      "\n",
      "After OverSampling, the shape of train_X: (88315, 2)\n",
      "After OverSampling, the shape of train_y: (88315,) \n",
      "\n"
     ]
    }
   ],
   "source": [
    "print('Before OverSampling, the shape of train_X: {}'.format(X_train.shape))\n",
    "print('Before OverSampling, the shape of train_y: {} \\n'.format(y_train.shape))\n",
    "print('After OverSampling, the shape of train_X: {}'.format(X_train_random.shape))\n",
    "print('After OverSampling, the shape of train_y: {} \\n'.format(y_train_random.shape))"
   ]
  },
  {
   "cell_type": "code",
   "execution_count": 682,
   "id": "1bfd538d",
   "metadata": {},
   "outputs": [
    {
     "data": {
      "text/plain": [
       "0    17663\n",
       "1    17663\n",
       "2    17663\n",
       "3    17663\n",
       "4    17663\n",
       "Name: Siddet, dtype: int64"
      ]
     },
     "execution_count": 682,
     "metadata": {},
     "output_type": "execute_result"
    }
   ],
   "source": [
    "y_train_random.value_counts()"
   ]
  },
  {
   "cell_type": "markdown",
   "id": "5569f4c7",
   "metadata": {},
   "source": [
    "#### 1.2 Oversampling SMOTE"
   ]
  },
  {
   "cell_type": "code",
   "execution_count": 683,
   "id": "b9031e37",
   "metadata": {
    "scrolled": true
   },
   "outputs": [],
   "source": [
    "from imblearn.over_sampling import SMOTE\n",
    "smote = SMOTE()\n",
    "X_res_smote, y_res_smote = smote.fit_resample(X_train, y_train)"
   ]
  },
  {
   "cell_type": "code",
   "execution_count": 684,
   "id": "725557bc",
   "metadata": {},
   "outputs": [
    {
     "name": "stdout",
     "output_type": "stream",
     "text": [
      "Before OverSampling, the shape of train_X: (18877, 2)\n",
      "Before OverSampling, the shape of train_y: (18877,) \n",
      "\n",
      "After OverSampling, the shape of train_X: (88315, 2)\n",
      "After OverSampling, the shape of train_y: (88315,) \n",
      "\n"
     ]
    }
   ],
   "source": [
    "print('Before OverSampling, the shape of train_X: {}'.format(X_train.shape))\n",
    "print('Before OverSampling, the shape of train_y: {} \\n'.format(y_train.shape))\n",
    "print('After OverSampling, the shape of train_X: {}'.format(X_res_smote.shape))\n",
    "print('After OverSampling, the shape of train_y: {} \\n'.format(y_res_smote.shape))"
   ]
  },
  {
   "cell_type": "code",
   "execution_count": 685,
   "id": "443b87fe",
   "metadata": {},
   "outputs": [
    {
     "data": {
      "text/plain": [
       "0    17663\n",
       "1    17663\n",
       "2    17663\n",
       "3    17663\n",
       "4    17663\n",
       "Name: Siddet, dtype: int64"
      ]
     },
     "execution_count": 685,
     "metadata": {},
     "output_type": "execute_result"
    }
   ],
   "source": [
    "y_res_smote.value_counts()"
   ]
  },
  {
   "cell_type": "markdown",
   "id": "e32a6054",
   "metadata": {},
   "source": [
    "#### 1.3 Oversampling SMOTE + all"
   ]
  },
  {
   "cell_type": "code",
   "execution_count": 686,
   "id": "7e319ffe",
   "metadata": {},
   "outputs": [],
   "source": [
    "from imblearn.over_sampling import SMOTE\n",
    "smote = SMOTE(sampling_strategy='all')\n",
    "X_res_smote_all, y_res_smote_all = smote.fit_resample(X_train, y_train)"
   ]
  },
  {
   "cell_type": "code",
   "execution_count": 687,
   "id": "b997c7ca",
   "metadata": {},
   "outputs": [
    {
     "name": "stdout",
     "output_type": "stream",
     "text": [
      "Before OverSampling, the shape of train_X: (18877, 2)\n",
      "Before OverSampling, the shape of train_y: (18877,) \n",
      "\n",
      "After OverSampling, the shape of train_X: (88315, 2)\n",
      "After OverSampling, the shape of train_y: (88315,) \n",
      "\n"
     ]
    }
   ],
   "source": [
    "print('Before OverSampling, the shape of train_X: {}'.format(X_train.shape))\n",
    "print('Before OverSampling, the shape of train_y: {} \\n'.format(y_train.shape))\n",
    "print('After OverSampling, the shape of train_X: {}'.format(X_res_smote_all.shape))\n",
    "print('After OverSampling, the shape of train_y: {} \\n'.format(y_res_smote_all.shape))"
   ]
  },
  {
   "cell_type": "code",
   "execution_count": 688,
   "id": "0193074e",
   "metadata": {},
   "outputs": [
    {
     "data": {
      "text/plain": [
       "0    17663\n",
       "1    17663\n",
       "2    17663\n",
       "3    17663\n",
       "4    17663\n",
       "Name: Siddet, dtype: int64"
      ]
     },
     "execution_count": 688,
     "metadata": {},
     "output_type": "execute_result"
    }
   ],
   "source": [
    "y_res_smote_all.value_counts()"
   ]
  },
  {
   "cell_type": "markdown",
   "id": "b0a73846",
   "metadata": {},
   "source": [
    "#### 1.3 Oversampling SMOTE + not majority"
   ]
  },
  {
   "cell_type": "code",
   "execution_count": 689,
   "id": "da95a8a0",
   "metadata": {},
   "outputs": [],
   "source": [
    "from imblearn.over_sampling import SMOTE\n",
    "smote = SMOTE(sampling_strategy='not majority')\n",
    "X_res_smote_notmajor, y_res_smote_notmajor = smote.fit_resample(X_train, y_train)"
   ]
  },
  {
   "cell_type": "code",
   "execution_count": 690,
   "id": "70f04e72",
   "metadata": {},
   "outputs": [
    {
     "name": "stdout",
     "output_type": "stream",
     "text": [
      "Before OverSampling, the shape of train_X: (18877, 2)\n",
      "Before OverSampling, the shape of train_y: (18877,) \n",
      "\n",
      "After OverSampling, the shape of train_X: (88315, 2)\n",
      "After OverSampling, the shape of train_y: (88315,) \n",
      "\n"
     ]
    }
   ],
   "source": [
    "print('Before OverSampling, the shape of train_X: {}'.format(X_train.shape))\n",
    "print('Before OverSampling, the shape of train_y: {} \\n'.format(y_train.shape))\n",
    "print('After OverSampling, the shape of train_X: {}'.format(X_res_smote_notmajor.shape))\n",
    "print('After OverSampling, the shape of train_y: {} \\n'.format(y_res_smote_notmajor.shape))"
   ]
  },
  {
   "cell_type": "code",
   "execution_count": 691,
   "id": "b91cd3bb",
   "metadata": {},
   "outputs": [
    {
     "data": {
      "text/plain": [
       "0    17663\n",
       "1    17663\n",
       "2    17663\n",
       "3    17663\n",
       "4    17663\n",
       "Name: Siddet, dtype: int64"
      ]
     },
     "execution_count": 691,
     "metadata": {},
     "output_type": "execute_result"
    }
   ],
   "source": [
    "y_res_smote_notmajor.value_counts()"
   ]
  },
  {
   "cell_type": "markdown",
   "id": "9453e5ae",
   "metadata": {},
   "source": [
    "#### 1.5 Oversampling ADASYN"
   ]
  },
  {
   "cell_type": "code",
   "execution_count": 692,
   "id": "70672dcc",
   "metadata": {},
   "outputs": [],
   "source": [
    "from imblearn.over_sampling import  ADASYN"
   ]
  },
  {
   "cell_type": "code",
   "execution_count": 693,
   "id": "9ed777cb",
   "metadata": {},
   "outputs": [],
   "source": [
    "X_resampled_adasyn, y_resampled_adasyn = ADASYN().fit_resample(X_train, y_train)"
   ]
  },
  {
   "cell_type": "code",
   "execution_count": 694,
   "id": "0c3482b7",
   "metadata": {},
   "outputs": [
    {
     "name": "stdout",
     "output_type": "stream",
     "text": [
      "Before OverSampling, the shape of train_X: (18877, 2)\n",
      "Before OverSampling, the shape of train_y: (18877,) \n",
      "\n",
      "After OverSampling, the shape of train_X: (88330, 2)\n",
      "After OverSampling, the shape of train_y: (88330,) \n",
      "\n"
     ]
    }
   ],
   "source": [
    "print('Before OverSampling, the shape of train_X: {}'.format(X_train.shape))\n",
    "print('Before OverSampling, the shape of train_y: {} \\n'.format(y_train.shape))\n",
    "print('After OverSampling, the shape of train_X: {}'.format(X_resampled_adasyn.shape))\n",
    "print('After OverSampling, the shape of train_y: {} \\n'.format(y_resampled_adasyn.shape))"
   ]
  },
  {
   "cell_type": "code",
   "execution_count": 695,
   "id": "f06d7290",
   "metadata": {},
   "outputs": [
    {
     "data": {
      "text/plain": [
       "3    17680\n",
       "2    17669\n",
       "4    17664\n",
       "0    17663\n",
       "1    17654\n",
       "Name: Siddet, dtype: int64"
      ]
     },
     "execution_count": 695,
     "metadata": {},
     "output_type": "execute_result"
    }
   ],
   "source": [
    "y_resampled_adasyn.value_counts()"
   ]
  },
  {
   "cell_type": "code",
   "execution_count": 696,
   "id": "7822f11a",
   "metadata": {},
   "outputs": [],
   "source": [
    "#Blended teknik"
   ]
  },
  {
   "cell_type": "code",
   "execution_count": 697,
   "id": "146011c2",
   "metadata": {},
   "outputs": [],
   "source": [
    "from imblearn.combine import SMOTETomek\n",
    "smote_tomek = SMOTETomek(random_state=0)\n",
    "X_resampleda, y_resampledb = smote_tomek.fit_resample(X_train, y_train)"
   ]
  },
  {
   "cell_type": "code",
   "execution_count": 698,
   "id": "b7a44a55",
   "metadata": {},
   "outputs": [
    {
     "data": {
      "text/plain": [
       "0    17663\n",
       "1    17663\n",
       "2    17663\n",
       "3    17663\n",
       "4    17663\n",
       "Name: Siddet, dtype: int64"
      ]
     },
     "execution_count": 698,
     "metadata": {},
     "output_type": "execute_result"
    }
   ],
   "source": [
    "y_resampledb.value_counts()\n",
    "    "
   ]
  },
  {
   "cell_type": "code",
   "execution_count": null,
   "id": "5f92b469",
   "metadata": {},
   "outputs": [],
   "source": []
  },
  {
   "cell_type": "markdown",
   "id": "8d747d76",
   "metadata": {},
   "source": [
    "## OVERSAMPLING (Test Data)\n",
    "##### 2.1OverSampling(SMOTE)"
   ]
  },
  {
   "cell_type": "code",
   "execution_count": 699,
   "id": "a1f5b3e7",
   "metadata": {},
   "outputs": [],
   "source": [
    "from imblearn.over_sampling import SMOTE\n",
    "smote = SMOTE(sampling_strategy='not majority')\n",
    "X_test_all, y_test_all = smote.fit_resample(X_test, y_test)"
   ]
  },
  {
   "cell_type": "code",
   "execution_count": 700,
   "id": "5dee60bf",
   "metadata": {},
   "outputs": [
    {
     "name": "stdout",
     "output_type": "stream",
     "text": [
      "Before OverSampling, the shape of train_X: (5918, 2)\n",
      "Before OverSampling, the shape of train_y: (5918,) \n",
      "\n",
      "After OverSampling, the shape of train_X: (26605, 2)\n",
      "After OverSampling, the shape of train_y: (26605,) \n",
      "\n"
     ]
    }
   ],
   "source": [
    "print('Before OverSampling, the shape of train_X: {}'.format(X_test.shape))\n",
    "print('Before OverSampling, the shape of train_y: {} \\n'.format(y_test.shape))\n",
    "print('After OverSampling, the shape of train_X: {}'.format(X_test_all.shape))\n",
    "print('After OverSampling, the shape of train_y: {} \\n'.format(y_test_all.shape))"
   ]
  },
  {
   "cell_type": "code",
   "execution_count": 701,
   "id": "8acb585c",
   "metadata": {},
   "outputs": [
    {
     "data": {
      "text/plain": [
       "0    5321\n",
       "1    5321\n",
       "2    5321\n",
       "3    5321\n",
       "4    5321\n",
       "Name: Siddet, dtype: int64"
      ]
     },
     "execution_count": 701,
     "metadata": {},
     "output_type": "execute_result"
    }
   ],
   "source": [
    "y_test_all.value_counts()"
   ]
  },
  {
   "cell_type": "markdown",
   "id": "30d293c2",
   "metadata": {},
   "source": [
    "#####  2.2 RandomOverSampler"
   ]
  },
  {
   "cell_type": "code",
   "execution_count": 702,
   "id": "d7f26309",
   "metadata": {},
   "outputs": [
    {
     "name": "stdout",
     "output_type": "stream",
     "text": [
      "Before OverSampling, the shape of train_X: (5918, 2)\n",
      "Before OverSampling, the shape of train_y: (5918,) \n",
      "\n",
      "After OverSampling, the shape of train_X: (26605, 2)\n",
      "After OverSampling, the shape of train_y: (26605,) \n",
      "\n"
     ]
    }
   ],
   "source": [
    "from imblearn.over_sampling import RandomOverSampler\n",
    "os = RandomOverSampler(random_state=42)\n",
    "X_test_random , y_test_random = os.fit_sample(X_test, y_test)\n",
    "\n",
    "print('Before OverSampling, the shape of train_X: {}'.format(X_test.shape))\n",
    "print('Before OverSampling, the shape of train_y: {} \\n'.format(y_test.shape))\n",
    "print('After OverSampling, the shape of train_X: {}'.format(X_test_random.shape))\n",
    "print('After OverSampling, the shape of train_y: {} \\n'.format(y_test_random.shape))"
   ]
  },
  {
   "cell_type": "code",
   "execution_count": 703,
   "id": "a801c811",
   "metadata": {},
   "outputs": [
    {
     "data": {
      "text/plain": [
       "0    5321\n",
       "1    5321\n",
       "2    5321\n",
       "3    5321\n",
       "4    5321\n",
       "Name: Siddet, dtype: int64"
      ]
     },
     "execution_count": 703,
     "metadata": {},
     "output_type": "execute_result"
    }
   ],
   "source": [
    "y_test_random.value_counts()"
   ]
  },
  {
   "cell_type": "markdown",
   "id": "b2c9ad41",
   "metadata": {},
   "source": [
    "##### 2.3 ADASYN"
   ]
  },
  {
   "cell_type": "code",
   "execution_count": 704,
   "id": "198ceafd",
   "metadata": {},
   "outputs": [
    {
     "name": "stdout",
     "output_type": "stream",
     "text": [
      "Before OverSampling, the shape of train_X: (5918, 2)\n",
      "Before OverSampling, the shape of train_y: (5918,) \n",
      "\n",
      "After OverSampling, the shape of train_X: (26510, 2)\n",
      "After OverSampling, the shape of train_y: (26510,) \n",
      "\n"
     ]
    }
   ],
   "source": [
    "from imblearn.over_sampling import  ADASYN\n",
    "X_test_adasyn, y_test_adasyn = ADASYN().fit_resample(X_test, y_test)\n",
    "\n",
    "print('Before OverSampling, the shape of train_X: {}'.format(X_test.shape))\n",
    "print('Before OverSampling, the shape of train_y: {} \\n'.format(y_test.shape))\n",
    "print('After OverSampling, the shape of train_X: {}'.format(X_test_adasyn.shape))\n",
    "print('After OverSampling, the shape of train_y: {} \\n'.format(y_test_adasyn.shape))"
   ]
  },
  {
   "cell_type": "code",
   "execution_count": 705,
   "id": "7032bb00",
   "metadata": {},
   "outputs": [
    {
     "data": {
      "text/plain": [
       "3    5328\n",
       "4    5328\n",
       "0    5321\n",
       "2    5297\n",
       "1    5236\n",
       "Name: Siddet, dtype: int64"
      ]
     },
     "execution_count": 705,
     "metadata": {},
     "output_type": "execute_result"
    }
   ],
   "source": [
    "y_test_adasyn.value_counts()"
   ]
  },
  {
   "cell_type": "code",
   "execution_count": 706,
   "id": "1d98d26c",
   "metadata": {},
   "outputs": [
    {
     "data": {
      "text/plain": [
       "3    5328\n",
       "4    5328\n",
       "0    5321\n",
       "2    5297\n",
       "1    5236\n",
       "Name: Siddet, dtype: int64"
      ]
     },
     "execution_count": 706,
     "metadata": {},
     "output_type": "execute_result"
    }
   ],
   "source": [
    "y_test_adasyn.value_counts()"
   ]
  },
  {
   "cell_type": "code",
   "execution_count": 707,
   "id": "45f57cfc",
   "metadata": {},
   "outputs": [
    {
     "data": {
      "text/plain": [
       "0    17663\n",
       "1    17663\n",
       "2    17663\n",
       "3    17663\n",
       "4    17663\n",
       "Name: Siddet, dtype: int64"
      ]
     },
     "execution_count": 707,
     "metadata": {},
     "output_type": "execute_result"
    }
   ],
   "source": [
    "y_resampledb.value_counts()"
   ]
  },
  {
   "cell_type": "code",
   "execution_count": 708,
   "id": "2f4c8615",
   "metadata": {},
   "outputs": [],
   "source": [
    "from imblearn.combine import SMOTETomek\n",
    "smote_tomek = SMOTETomek(random_state=0)\n",
    "X_resampledo, y_resampledk = smote_tomek.fit_resample(X_test, y_test)"
   ]
  },
  {
   "cell_type": "code",
   "execution_count": 736,
   "id": "ca35b857",
   "metadata": {},
   "outputs": [],
   "source": [
    "from imblearn.combine import SMOTETomek\n",
    "smote_tomek = SMOTETomek(random_state=0)\n",
    "Xtomek, y_tomek = smote_tomek.fit_resample(X_train, y_train)"
   ]
  },
  {
   "cell_type": "code",
   "execution_count": 709,
   "id": "59a1036d",
   "metadata": {},
   "outputs": [
    {
     "data": {
      "text/plain": [
       "0    5321\n",
       "1    5321\n",
       "2    5321\n",
       "3    5321\n",
       "4    5321\n",
       "Name: Siddet, dtype: int64"
      ]
     },
     "execution_count": 709,
     "metadata": {},
     "output_type": "execute_result"
    }
   ],
   "source": [
    "y_resampledk.value_counts()"
   ]
  },
  {
   "cell_type": "code",
   "execution_count": 710,
   "id": "c35060ec",
   "metadata": {},
   "outputs": [],
   "source": [
    "### MANUEL DATA OLUŞTURMA"
   ]
  },
  {
   "cell_type": "code",
   "execution_count": 711,
   "id": "4659bbf4",
   "metadata": {},
   "outputs": [],
   "source": [
    "#########under "
   ]
  },
  {
   "cell_type": "code",
   "execution_count": 712,
   "id": "fc8e59cc",
   "metadata": {},
   "outputs": [
    {
     "name": "stdout",
     "output_type": "stream",
     "text": [
      "Before OverSampling, the shape of train_X: (5918, 2)\n",
      "Before OverSampling, the shape of train_y: (5918,) \n",
      "\n",
      "After OverSampling, the shape of train_X: (160, 2)\n",
      "After OverSampling, the shape of train_y: (160,) \n",
      "\n"
     ]
    }
   ],
   "source": [
    "from imblearn.under_sampling import RandomUnderSampler\n",
    "underX, undery = RandomUnderSampler().fit_resample(X_train, y_train)\n",
    "\n",
    "print('Before OverSampling, the shape of train_X: {}'.format(X_test.shape))\n",
    "print('Before OverSampling, the shape of train_y: {} \\n'.format(y_test.shape))\n",
    "print('After OverSampling, the shape of train_X: {}'.format(underX.shape))\n",
    "print('After OverSampling, the shape of train_y: {} \\n'.format(undery.shape))"
   ]
  },
  {
   "cell_type": "code",
   "execution_count": 840,
   "id": "3cb41496",
   "metadata": {},
   "outputs": [
    {
     "name": "stdout",
     "output_type": "stream",
     "text": [
      "Before OverSampling, the shape of train_X: (5918, 2)\n",
      "Before OverSampling, the shape of train_y: (5918,) \n",
      "\n",
      "After OverSampling, the shape of train_X: (160, 2)\n",
      "After OverSampling, the shape of train_y: (160,) \n",
      "\n"
     ]
    }
   ],
   "source": [
    "from imblearn.under_sampling import RandomUnderSampler\n",
    "testunderX, testundery = RandomUnderSampler().fit_resample(X_test, y_test)\n",
    "\n",
    "print('Before OverSampling, the shape of train_X: {}'.format(X_test.shape))\n",
    "print('Before OverSampling, the shape of train_y: {} \\n'.format(y_test.shape))\n",
    "print('After OverSampling, the shape of train_X: {}'.format(underX.shape))\n",
    "print('After OverSampling, the shape of train_y: {} \\n'.format(undery.shape))"
   ]
  },
  {
   "cell_type": "code",
   "execution_count": 713,
   "id": "5b71a5e5",
   "metadata": {},
   "outputs": [
    {
     "name": "stdout",
     "output_type": "stream",
     "text": [
      "Before OverSampling, the shape of train_X: (5918, 2)\n",
      "Before OverSampling, the shape of train_y: (5918,) \n",
      "\n",
      "After OverSampling, the shape of train_X: (80, 2)\n",
      "After OverSampling, the shape of train_y: (80,) \n",
      "\n"
     ]
    }
   ],
   "source": [
    "from imblearn.under_sampling import RandomUnderSampler\n",
    "undertestX, undertesty = RandomUnderSampler().fit_resample(X_test, y_test)\n",
    "\n",
    "print('Before OverSampling, the shape of train_X: {}'.format(X_test.shape))\n",
    "print('Before OverSampling, the shape of train_y: {} \\n'.format(y_test.shape))\n",
    "print('After OverSampling, the shape of train_X: {}'.format(undertestX.shape))\n",
    "print('After OverSampling, the shape of train_y: {} \\n'.format(undertesty.shape))"
   ]
  },
  {
   "cell_type": "code",
   "execution_count": 839,
   "id": "4efc1c0e",
   "metadata": {},
   "outputs": [
    {
     "data": {
      "text/plain": [
       "0    32\n",
       "1    32\n",
       "2    32\n",
       "3    32\n",
       "4    32\n",
       "Name: Siddet, dtype: int64"
      ]
     },
     "execution_count": 839,
     "metadata": {},
     "output_type": "execute_result"
    }
   ],
   "source": [
    "undery.value_counts()"
   ]
  },
  {
   "cell_type": "code",
   "execution_count": 715,
   "id": "5e3919bb",
   "metadata": {},
   "outputs": [],
   "source": [
    "from imblearn.over_sampling import  ADASYN\n",
    "X_train_adasyn, y_train_adasyn = ADASYN().fit_resample(underX, undery)\n",
    "\n",
    "from imblearn.over_sampling import  ADASYN\n",
    "X_test_adasyn, y_test_adasyn = ADASYN().fit_resample(undertestX, undertesty)"
   ]
  },
  {
   "cell_type": "code",
   "execution_count": 716,
   "id": "68a81095",
   "metadata": {},
   "outputs": [],
   "source": [
    "from sklearn.model_selection import cross_validate\n",
    "def cross_validation(model, _X, _y, _cv=5):\n",
    "      '''Function to perform 5 Folds Cross-Validation\n",
    "       Parameters\n",
    "       ----------\n",
    "      model: Python Class, default=None\n",
    "              This is the machine learning algorithm to be used for training.\n",
    "      _X: array\n",
    "           This is the matrix of features.\n",
    "      _y: array\n",
    "           This is the target variable.\n",
    "      _cv: int, default=5\n",
    "          Determines the number of folds for cross-validation.\n",
    "       Returns\n",
    "       -------\n",
    "       The function returns a dictionary containing the metrics 'accuracy', 'precision',\n",
    "       'recall', 'f1' for both training set and validation set.\n",
    "      '''\n",
    "      _scoring = ['accuracy', 'precision', 'recall', 'f1']\n",
    "      results = cross_validate(estimator=model,\n",
    "                               X=_X,\n",
    "                               y=_y,\n",
    "                               cv=_cv,\n",
    "                               scoring=_scoring,\n",
    "                               return_train_score=True)\n",
    "      \n",
    "      return {\"Training Accuracy scores\": results['train_accuracy'],\n",
    "              \"Mean Training Accuracy\": results['train_accuracy'].mean()*100,\n",
    "              \"Training Precision scores\": results['train_precision'],\n",
    "              \"Mean Training Precision\": results['train_precision'].mean(),\n",
    "              \"Training Recall scores\": results['train_recall'],\n",
    "              \"Mean Training Recall\": results['train_recall'].mean(),\n",
    "              \"Validation Accuracy scores\": results['test_accuracy'],\n",
    "              \"Mean Validation Accuracy\": results['test_accuracy'].mean()*100,\n",
    "              \"Validation Precision scores\": results['test_precision'],\n",
    "              \"Mean Validation Precision\": results['test_precision'].mean(),\n",
    "              \"Validation Recall scores\": results['test_recall'],\n",
    "              \"Mean Validation Recall\": results['test_recall'].mean(),\n",
    "              }"
   ]
  },
  {
   "cell_type": "code",
   "execution_count": null,
   "id": "6f70fd5a",
   "metadata": {},
   "outputs": [],
   "source": [
    "##############################################\n",
    "X_train_random , y_train_random\n",
    "X_res_smote, y_res_smote\n",
    "X_res_smote_all, y_res_smote_all\n",
    "X_res_smote_notmajor, y_res_smote_notmajor\n",
    "X_resampled_adasyn, y_resampled_adasyn\n",
    "X_resampleda, y_resampledb\n",
    "Xtomek, y_tomek\n",
    "##############################################\n",
    "X_test_all, y_test_all \n",
    "X_test_random , y_test_random \n",
    "X_test_adasyn, y_test_adasyn\n",
    "X_resampledo, y_resampledk\n",
    "testunderX, testundery\n",
    "##############################################\n",
    "X_train,y_train ,X_test , y_test\n",
    "##############################################"
   ]
  },
  {
   "cell_type": "code",
   "execution_count": 737,
   "id": "c0d94c2f",
   "metadata": {},
   "outputs": [
    {
     "data": {
      "text/plain": [
       "LogisticRegression(random_state=0)"
      ]
     },
     "execution_count": 737,
     "metadata": {},
     "output_type": "execute_result"
    }
   ],
   "source": [
    "from sklearn.linear_model import LogisticRegression\n",
    "classifier1 = LogisticRegression(random_state = 0)\n",
    "classifier1.fit(Xtomek, y_tomek)\n"
   ]
  },
  {
   "cell_type": "code",
   "execution_count": 738,
   "id": "36728798",
   "metadata": {},
   "outputs": [
    {
     "data": {
      "text/plain": [
       "KNeighborsClassifier()"
      ]
     },
     "execution_count": 738,
     "metadata": {},
     "output_type": "execute_result"
    }
   ],
   "source": [
    "#Using KNeighborsClassifier Method of neighbors class to use Nearest Neighbor algorithm\n",
    "from sklearn.neighbors import KNeighborsClassifier\n",
    "classifier2 = KNeighborsClassifier(n_neighbors = 5, metric = 'minkowski', p = 2)\n",
    "classifier2.fit(Xtomek, y_tomek)\n"
   ]
  },
  {
   "cell_type": "code",
   "execution_count": 739,
   "id": "8a7eed2e",
   "metadata": {},
   "outputs": [
    {
     "data": {
      "text/plain": [
       "GaussianNB()"
      ]
     },
     "execution_count": 739,
     "metadata": {},
     "output_type": "execute_result"
    }
   ],
   "source": [
    "#Using GaussianNB method of naïve_bayes class to use Naïve Bayes Algorithm\n",
    "from sklearn.naive_bayes import GaussianNB\n",
    "classifier5 = GaussianNB()\n",
    "classifier5.fit(Xtomek, y_tomek)\n"
   ]
  },
  {
   "cell_type": "code",
   "execution_count": 740,
   "id": "f4c0f5fe",
   "metadata": {},
   "outputs": [
    {
     "data": {
      "text/plain": [
       "DecisionTreeClassifier(criterion='entropy', random_state=0)"
      ]
     },
     "execution_count": 740,
     "metadata": {},
     "output_type": "execute_result"
    }
   ],
   "source": [
    "#Using DecisionTreeClassifier of tree class to use Decision Tree Algorithm\n",
    "\n",
    "from sklearn.tree import DecisionTreeClassifier\n",
    "classifier6 = DecisionTreeClassifier(criterion = 'entropy', random_state = 0)\n",
    "classifier6.fit(Xtomek, y_tomek)\n",
    "\n"
   ]
  },
  {
   "cell_type": "code",
   "execution_count": 741,
   "id": "bcdad872",
   "metadata": {},
   "outputs": [
    {
     "data": {
      "text/plain": [
       "RandomForestClassifier(criterion='entropy', n_estimators=10, random_state=0)"
      ]
     },
     "execution_count": 741,
     "metadata": {},
     "output_type": "execute_result"
    }
   ],
   "source": [
    "#Using RandomForestClassifier method of ensemble class to use Random Forest Classification algorithm\n",
    "\n",
    "from sklearn.ensemble import RandomForestClassifier\n",
    "classifier7 = RandomForestClassifier(n_estimators = 10, criterion = 'entropy', random_state = 0)\n",
    "classifier7.fit(Xtomek, y_tomek)"
   ]
  },
  {
   "cell_type": "code",
   "execution_count": 742,
   "id": "04ade390",
   "metadata": {},
   "outputs": [],
   "source": [
    "ypred1 = classifier1.predict(X_resampledo)\n",
    "ypred2 = classifier2.predict(X_resampledo)\n",
    "ypred5 = classifier5.predict(X_resampledo)\n",
    "ypred6 = classifier6.predict(X_resampledo)\n",
    "ypred7 = classifier7.predict(X_resampledo)"
   ]
  },
  {
   "cell_type": "code",
   "execution_count": 743,
   "id": "1234688e",
   "metadata": {},
   "outputs": [
    {
     "name": "stdout",
     "output_type": "stream",
     "text": [
      "Accuracy1:  0.34602518323623377\n",
      "Accuracy2:  0.2\n",
      "Accuracy5:  0.33940988535989475\n",
      "Accuracy6:  0.44134561172711895\n",
      "Accuracy7:  0.44134561172711895\n"
     ]
    }
   ],
   "source": [
    "print(\"Accuracy1: \", accuracy_score(y_resampledk, ypred1))\n",
    "print(\"Accuracy2: \", accuracy_score(y_resampledk, ypred2))\n",
    "print(\"Accuracy5: \", accuracy_score(y_resampledk, ypred5))\n",
    "print(\"Accuracy6: \", accuracy_score(y_resampledk, ypred6))\n",
    "print(\"Accuracy7: \", accuracy_score(y_resampledk, ypred7))"
   ]
  },
  {
   "cell_type": "code",
   "execution_count": 749,
   "id": "826603ca",
   "metadata": {},
   "outputs": [
    {
     "name": "stdout",
     "output_type": "stream",
     "text": [
      "[0.62219364]\n"
     ]
    }
   ],
   "source": [
    "print(f1_score(y_resampledk,ypred6,labels=[4],average=None))"
   ]
  },
  {
   "cell_type": "markdown",
   "id": "d9a5b5b9",
   "metadata": {},
   "source": [
    "#### 1. XGBOOST + MODEL EVULATION"
   ]
  },
  {
   "cell_type": "code",
   "execution_count": 842,
   "id": "f8381999",
   "metadata": {},
   "outputs": [
    {
     "name": "stderr",
     "output_type": "stream",
     "text": [
      "C:\\ProgramData\\Anaconda3\\lib\\site-packages\\xgboost\\data.py:250: FutureWarning:\n",
      "\n",
      "pandas.Int64Index is deprecated and will be removed from pandas in a future version. Use pandas.Index with the appropriate dtype instead.\n",
      "\n"
     ]
    },
    {
     "name": "stdout",
     "output_type": "stream",
     "text": [
      "[16:24:51] WARNING: ..\\src\\learner.cc:1115: Starting in XGBoost 1.3.0, the default evaluation metric used with the objective 'multi:softprob' was changed from 'merror' to 'mlogloss'. Explicitly set eval_metric if you'd like to restore the old behavior.\n",
      "Accuracy:  0.375\n",
      "AUC for our classifier is: 0.45263671875\n"
     ]
    },
    {
     "data": {
      "image/png": "[encoded data removed]",
      "text/plain": [
       "<Figure size 432x288 with 1 Axes>"
      ]
     },
     "metadata": {
      "needs_background": "light"
     },
     "output_type": "display_data"
    }
   ],
   "source": [
    "from xgboost import XGBClassifier\n",
    "#from sklearn.model_selection import StratifiedKFold\n",
    "#kfold = 5\n",
    "#skf = StratifiedKFold(n_splits=kfold, random_state=42)\n",
    "\n",
    "\n",
    "model = XGBClassifier(use_label_encoder =False,n_estimators=1000)\n",
    "model.fit(underX, undery)\n",
    "y_pred = model.predict(testunderX)\n",
    "print(\"Accuracy: \", accuracy_score(testundery, y_pred))\n",
    "\n",
    "\n",
    "from sklearn.metrics import roc_curve, auc\n",
    "class_probabilities = model.predict_proba(testunderX)\n",
    "preds = class_probabilities[:, 1]\n",
    "\n",
    "fpr, tpr, threshold = roc_curve(testundery, preds,pos_label=1)\n",
    "roc_auc = auc(fpr, tpr)\n",
    "\n",
    "# Printing AUC\n",
    "print(f\"AUC for our classifier is: {roc_auc}\")\n",
    "\n",
    "# Plotting the ROC\n",
    "plt.title('Receiver Operating Characteristic')\n",
    "plt.plot(fpr, tpr, 'b', label = 'AUC = %0.2f' % roc_auc)\n",
    "plt.legend(loc = 'lower right')\n",
    "plt.plot([0, 1], [0, 1],'r--')\n",
    "plt.xlim([0, 1])\n",
    "plt.ylim([0, 1])\n",
    "plt.ylabel('True Positive Rate')\n",
    "plt.xlabel('False Positive Rate')\n",
    "plt.show()"
   ]
  },
  {
   "cell_type": "code",
   "execution_count": 557,
   "id": "bdc92f1f",
   "metadata": {},
   "outputs": [
    {
     "name": "stdout",
     "output_type": "stream",
     "text": [
      "Accuracy:                precision    recall  f1-score   support\n",
      "\n",
      "           0       0.91      1.00      0.95      5321\n",
      "           1       0.00      0.00      0.00       502\n",
      "           2       0.00      0.00      0.00        55\n",
      "\n",
      "    accuracy                           0.91      5878\n",
      "   macro avg       0.30      0.33      0.32      5878\n",
      "weighted avg       0.82      0.91      0.86      5878\n",
      "\n"
     ]
    },
    {
     "name": "stderr",
     "output_type": "stream",
     "text": [
      "C:\\ProgramData\\Anaconda3\\lib\\site-packages\\sklearn\\metrics\\_classification.py:1318: UndefinedMetricWarning:\n",
      "\n",
      "Precision and F-score are ill-defined and being set to 0.0 in labels with no predicted samples. Use `zero_division` parameter to control this behavior.\n",
      "\n",
      "C:\\ProgramData\\Anaconda3\\lib\\site-packages\\sklearn\\metrics\\_classification.py:1318: UndefinedMetricWarning:\n",
      "\n",
      "Precision and F-score are ill-defined and being set to 0.0 in labels with no predicted samples. Use `zero_division` parameter to control this behavior.\n",
      "\n",
      "C:\\ProgramData\\Anaconda3\\lib\\site-packages\\sklearn\\metrics\\_classification.py:1318: UndefinedMetricWarning:\n",
      "\n",
      "Precision and F-score are ill-defined and being set to 0.0 in labels with no predicted samples. Use `zero_division` parameter to control this behavior.\n",
      "\n"
     ]
    }
   ],
   "source": [
    "print(\"Accuracy: \", classification_report(y_test, y_pred))"
   ]
  },
  {
   "cell_type": "code",
   "execution_count": 380,
   "id": "423d95da",
   "metadata": {},
   "outputs": [
    {
     "data": {
      "text/plain": [
       "0    5321\n",
       "1     502\n",
       "2      55\n",
       "3       3\n",
       "4       1\n",
       "Name: Siddet, dtype: int64"
      ]
     },
     "execution_count": 380,
     "metadata": {},
     "output_type": "execute_result"
    }
   ],
   "source": [
    "y_test.value_counts()"
   ]
  },
  {
   "cell_type": "code",
   "execution_count": 229,
   "id": "d06b67de",
   "metadata": {},
   "outputs": [
    {
     "name": "stdout",
     "output_type": "stream",
     "text": [
      "Accuracy:  [0.96783562 0.         0.         0.         0.        ]\n"
     ]
    }
   ],
   "source": [
    "y_pred = model.predict(X_train)\n",
    "print(\"Accuracy: \", f1_score(y_train, y_pred , average=None, zero_division=1))\n"
   ]
  },
  {
   "cell_type": "code",
   "execution_count": null,
   "id": "93f472a6",
   "metadata": {},
   "outputs": [],
   "source": []
  },
  {
   "cell_type": "code",
   "execution_count": null,
   "id": "181abf48",
   "metadata": {},
   "outputs": [],
   "source": [
    "X_train_random , y_train_random\n",
    "X_res_smote, y_res_smote\n",
    "X_res_smote_all, y_res_smote_all\n",
    "X_res_smote_notmajor, y_res_smote_notmajor\n",
    "X_resampled_adasyn, y_resampled_adasyn\n",
    "X_resampleda, y_resampledb\n",
    "-------------\n",
    "X_test_all, y_test_all \n",
    "X_test_random , y_test_random \n",
    "X_test_adasyn, y_test_adasyn\n",
    "X_resampledo, y_resampledk"
   ]
  },
  {
   "cell_type": "code",
   "execution_count": 237,
   "id": "2afc1935",
   "metadata": {},
   "outputs": [
    {
     "name": "stdout",
     "output_type": "stream",
     "text": [
      "Accuracy:  0.900948188283102\n"
     ]
    },
    {
     "ename": "ValueError",
     "evalue": "Found input variables with inconsistent numbers of samples: [26605, 5906]",
     "output_type": "error",
     "traceback": [
      "\u001b[1;31m---------------------------------------------------------------------------\u001b[0m",
      "\u001b[1;31mValueError\u001b[0m                                Traceback (most recent call last)",
      "Input \u001b[1;32mIn [237]\u001b[0m, in \u001b[0;36m<cell line: 13>\u001b[1;34m()\u001b[0m\n\u001b[0;32m     10\u001b[0m class_probabilities \u001b[38;5;241m=\u001b[39m model1\u001b[38;5;241m.\u001b[39mpredict_proba(X_test)\n\u001b[0;32m     11\u001b[0m preds \u001b[38;5;241m=\u001b[39m class_probabilities[:, \u001b[38;5;241m1\u001b[39m]\n\u001b[1;32m---> 13\u001b[0m fpr, tpr, threshold \u001b[38;5;241m=\u001b[39m \u001b[43mroc_curve\u001b[49m\u001b[43m(\u001b[49m\u001b[43my_test_random\u001b[49m\u001b[43m,\u001b[49m\u001b[43m \u001b[49m\u001b[43mpreds\u001b[49m\u001b[43m,\u001b[49m\u001b[43mpos_label\u001b[49m\u001b[38;5;241;43m=\u001b[39;49m\u001b[38;5;241;43m1\u001b[39;49m\u001b[43m)\u001b[49m\n\u001b[0;32m     14\u001b[0m roc_auc \u001b[38;5;241m=\u001b[39m auc(fpr, tpr)\n\u001b[0;32m     16\u001b[0m \u001b[38;5;66;03m# Printing AUC\u001b[39;00m\n",
      "File \u001b[1;32mC:\\ProgramData\\Anaconda3\\lib\\site-packages\\sklearn\\metrics\\_ranking.py:962\u001b[0m, in \u001b[0;36mroc_curve\u001b[1;34m(y_true, y_score, pos_label, sample_weight, drop_intermediate)\u001b[0m\n\u001b[0;32m    873\u001b[0m \u001b[38;5;28;01mdef\u001b[39;00m \u001b[38;5;21mroc_curve\u001b[39m(\n\u001b[0;32m    874\u001b[0m     y_true, y_score, \u001b[38;5;241m*\u001b[39m, pos_label\u001b[38;5;241m=\u001b[39m\u001b[38;5;28;01mNone\u001b[39;00m, sample_weight\u001b[38;5;241m=\u001b[39m\u001b[38;5;28;01mNone\u001b[39;00m, drop_intermediate\u001b[38;5;241m=\u001b[39m\u001b[38;5;28;01mTrue\u001b[39;00m\n\u001b[0;32m    875\u001b[0m ):\n\u001b[0;32m    876\u001b[0m     \u001b[38;5;124;03m\"\"\"Compute Receiver operating characteristic (ROC).\u001b[39;00m\n\u001b[0;32m    877\u001b[0m \n\u001b[0;32m    878\u001b[0m \u001b[38;5;124;03m    Note: this implementation is restricted to the binary classification task.\u001b[39;00m\n\u001b[1;32m   (...)\u001b[0m\n\u001b[0;32m    960\u001b[0m \n\u001b[0;32m    961\u001b[0m \u001b[38;5;124;03m    \"\"\"\u001b[39;00m\n\u001b[1;32m--> 962\u001b[0m     fps, tps, thresholds \u001b[38;5;241m=\u001b[39m \u001b[43m_binary_clf_curve\u001b[49m\u001b[43m(\u001b[49m\n\u001b[0;32m    963\u001b[0m \u001b[43m        \u001b[49m\u001b[43my_true\u001b[49m\u001b[43m,\u001b[49m\u001b[43m \u001b[49m\u001b[43my_score\u001b[49m\u001b[43m,\u001b[49m\u001b[43m \u001b[49m\u001b[43mpos_label\u001b[49m\u001b[38;5;241;43m=\u001b[39;49m\u001b[43mpos_label\u001b[49m\u001b[43m,\u001b[49m\u001b[43m \u001b[49m\u001b[43msample_weight\u001b[49m\u001b[38;5;241;43m=\u001b[39;49m\u001b[43msample_weight\u001b[49m\n\u001b[0;32m    964\u001b[0m \u001b[43m    \u001b[49m\u001b[43m)\u001b[49m\n\u001b[0;32m    966\u001b[0m     \u001b[38;5;66;03m# Attempt to drop thresholds corresponding to points in between and\u001b[39;00m\n\u001b[0;32m    967\u001b[0m     \u001b[38;5;66;03m# collinear with other points. These are always suboptimal and do not\u001b[39;00m\n\u001b[0;32m    968\u001b[0m     \u001b[38;5;66;03m# appear on a plotted ROC curve (and thus do not affect the AUC).\u001b[39;00m\n\u001b[1;32m   (...)\u001b[0m\n\u001b[0;32m    973\u001b[0m     \u001b[38;5;66;03m# but does not drop more complicated cases like fps = [1, 3, 7],\u001b[39;00m\n\u001b[0;32m    974\u001b[0m     \u001b[38;5;66;03m# tps = [1, 2, 4]; there is no harm in keeping too many thresholds.\u001b[39;00m\n\u001b[0;32m    975\u001b[0m     \u001b[38;5;28;01mif\u001b[39;00m drop_intermediate \u001b[38;5;129;01mand\u001b[39;00m \u001b[38;5;28mlen\u001b[39m(fps) \u001b[38;5;241m>\u001b[39m \u001b[38;5;241m2\u001b[39m:\n",
      "File \u001b[1;32mC:\\ProgramData\\Anaconda3\\lib\\site-packages\\sklearn\\metrics\\_ranking.py:733\u001b[0m, in \u001b[0;36m_binary_clf_curve\u001b[1;34m(y_true, y_score, pos_label, sample_weight)\u001b[0m\n\u001b[0;32m    730\u001b[0m \u001b[38;5;28;01mif\u001b[39;00m \u001b[38;5;129;01mnot\u001b[39;00m (y_type \u001b[38;5;241m==\u001b[39m \u001b[38;5;124m\"\u001b[39m\u001b[38;5;124mbinary\u001b[39m\u001b[38;5;124m\"\u001b[39m \u001b[38;5;129;01mor\u001b[39;00m (y_type \u001b[38;5;241m==\u001b[39m \u001b[38;5;124m\"\u001b[39m\u001b[38;5;124mmulticlass\u001b[39m\u001b[38;5;124m\"\u001b[39m \u001b[38;5;129;01mand\u001b[39;00m pos_label \u001b[38;5;129;01mis\u001b[39;00m \u001b[38;5;129;01mnot\u001b[39;00m \u001b[38;5;28;01mNone\u001b[39;00m)):\n\u001b[0;32m    731\u001b[0m     \u001b[38;5;28;01mraise\u001b[39;00m \u001b[38;5;167;01mValueError\u001b[39;00m(\u001b[38;5;124m\"\u001b[39m\u001b[38;5;132;01m{0}\u001b[39;00m\u001b[38;5;124m format is not supported\u001b[39m\u001b[38;5;124m\"\u001b[39m\u001b[38;5;241m.\u001b[39mformat(y_type))\n\u001b[1;32m--> 733\u001b[0m \u001b[43mcheck_consistent_length\u001b[49m\u001b[43m(\u001b[49m\u001b[43my_true\u001b[49m\u001b[43m,\u001b[49m\u001b[43m \u001b[49m\u001b[43my_score\u001b[49m\u001b[43m,\u001b[49m\u001b[43m \u001b[49m\u001b[43msample_weight\u001b[49m\u001b[43m)\u001b[49m\n\u001b[0;32m    734\u001b[0m y_true \u001b[38;5;241m=\u001b[39m column_or_1d(y_true)\n\u001b[0;32m    735\u001b[0m y_score \u001b[38;5;241m=\u001b[39m column_or_1d(y_score)\n",
      "File \u001b[1;32mC:\\ProgramData\\Anaconda3\\lib\\site-packages\\sklearn\\utils\\validation.py:332\u001b[0m, in \u001b[0;36mcheck_consistent_length\u001b[1;34m(*arrays)\u001b[0m\n\u001b[0;32m    330\u001b[0m uniques \u001b[38;5;241m=\u001b[39m np\u001b[38;5;241m.\u001b[39munique(lengths)\n\u001b[0;32m    331\u001b[0m \u001b[38;5;28;01mif\u001b[39;00m \u001b[38;5;28mlen\u001b[39m(uniques) \u001b[38;5;241m>\u001b[39m \u001b[38;5;241m1\u001b[39m:\n\u001b[1;32m--> 332\u001b[0m     \u001b[38;5;28;01mraise\u001b[39;00m \u001b[38;5;167;01mValueError\u001b[39;00m(\n\u001b[0;32m    333\u001b[0m         \u001b[38;5;124m\"\u001b[39m\u001b[38;5;124mFound input variables with inconsistent numbers of samples: \u001b[39m\u001b[38;5;132;01m%r\u001b[39;00m\u001b[38;5;124m\"\u001b[39m\n\u001b[0;32m    334\u001b[0m         \u001b[38;5;241m%\u001b[39m [\u001b[38;5;28mint\u001b[39m(l) \u001b[38;5;28;01mfor\u001b[39;00m l \u001b[38;5;129;01min\u001b[39;00m lengths]\n\u001b[0;32m    335\u001b[0m     )\n",
      "\u001b[1;31mValueError\u001b[0m: Found input variables with inconsistent numbers of samples: [26605, 5906]"
     ]
    }
   ],
   "source": [
    "from sklearn.ensemble import AdaBoostClassifier\n",
    "abc = AdaBoostClassifier(n_estimators=1000, learning_rate=0.5, random_state=40)\n",
    "model1 = abc.fit(X_train, y_train)\n",
    "y_pred = model1.predict(X_test)\n",
    "\n",
    "print(\"Accuracy: \", accuracy_score(y_test, y_pred))\n",
    "\n",
    "# Importing all necessary libraries            -------------------------------------\n",
    "from sklearn.metrics import roc_curve, auc\n",
    "class_probabilities = model1.predict_proba(X_test)\n",
    "preds = class_probabilities[:, 1]\n",
    "\n",
    "fpr, tpr, threshold = roc_curve(y_test_random, preds,pos_label=1)\n",
    "roc_auc = auc(fpr, tpr)\n",
    "\n",
    "# Printing AUC\n",
    "print(f\"AUC for our classifier is: {roc_auc}\")\n",
    "\n",
    "# Plotting the ROC\n",
    "plt.title('Receiver Operating Characteristic')\n",
    "plt.plot(fpr, tpr, 'b', label = 'AUC = %0.2f' % roc_auc)\n",
    "plt.legend(loc = 'lower right')\n",
    "plt.plot([0, 1], [0, 1],'r--')\n",
    "plt.xlim([0, 1])\n",
    "plt.ylim([0, 1])\n",
    "plt.ylabel('True Positive Rate')\n",
    "plt.xlabel('False Positive Rate')\n",
    "plt.show()\n",
    "\n",
    "print(\"Accuracy: \", classification_report(y_test, y_pred))\n",
    "\n"
   ]
  },
  {
   "cell_type": "markdown",
   "id": "de1d3ebc",
   "metadata": {},
   "source": [
    "### 2.LOGREG"
   ]
  },
  {
   "cell_type": "code",
   "execution_count": 231,
   "id": "d1388847",
   "metadata": {},
   "outputs": [
    {
     "name": "stdout",
     "output_type": "stream",
     "text": [
      "Accuracy:  0.900948188283102\n",
      "AUC for our classifier is: 0.6611759844412137\n"
     ]
    },
    {
     "data": {
      "image/png": "[encoded data removed]",
      "text/plain": [
       "<Figure size 432x288 with 1 Axes>"
      ]
     },
     "metadata": {
      "needs_background": "light"
     },
     "output_type": "display_data"
    },
    {
     "name": "stdout",
     "output_type": "stream",
     "text": [
      "Accuracy:                precision    recall  f1-score   support\n",
      "\n",
      "           0       0.90      1.00      0.95      5321\n",
      "           1       0.00      0.00      0.00       502\n",
      "           2       0.00      0.00      0.00        55\n",
      "           3       0.00      0.00      0.00        12\n",
      "           4       0.00      0.00      0.00        16\n",
      "\n",
      "    accuracy                           0.90      5906\n",
      "   macro avg       0.18      0.20      0.19      5906\n",
      "weighted avg       0.81      0.90      0.85      5906\n",
      "\n"
     ]
    },
    {
     "name": "stderr",
     "output_type": "stream",
     "text": [
      "C:\\ProgramData\\Anaconda3\\lib\\site-packages\\sklearn\\metrics\\_classification.py:1318: UndefinedMetricWarning:\n",
      "\n",
      "Precision and F-score are ill-defined and being set to 0.0 in labels with no predicted samples. Use `zero_division` parameter to control this behavior.\n",
      "\n",
      "C:\\ProgramData\\Anaconda3\\lib\\site-packages\\sklearn\\metrics\\_classification.py:1318: UndefinedMetricWarning:\n",
      "\n",
      "Precision and F-score are ill-defined and being set to 0.0 in labels with no predicted samples. Use `zero_division` parameter to control this behavior.\n",
      "\n",
      "C:\\ProgramData\\Anaconda3\\lib\\site-packages\\sklearn\\metrics\\_classification.py:1318: UndefinedMetricWarning:\n",
      "\n",
      "Precision and F-score are ill-defined and being set to 0.0 in labels with no predicted samples. Use `zero_division` parameter to control this behavior.\n",
      "\n"
     ]
    }
   ],
   "source": [
    "from sklearn.linear_model import LogisticRegression\n",
    "logreg = LogisticRegression()\n",
    "logreg = logreg.fit(X_train, y_train)\n",
    "y_pred = logreg.predict(X_test)\n",
    "\n",
    "\n",
    "print(\"Accuracy: \", accuracy_score(y_test, y_pred))\n",
    "\n",
    "# Importing all necessary libraries            -------------------------------------\n",
    "from sklearn.metrics import roc_curve, auc\n",
    "class_probabilities = logreg.predict_proba(X_test)\n",
    "preds = class_probabilities[:, 1]\n",
    "\n",
    "fpr, tpr, threshold = roc_curve(y_test, preds,pos_label=1)\n",
    "roc_auc = auc(fpr, tpr)\n",
    "\n",
    "# Printing AUC\n",
    "print(f\"AUC for our classifier is: {roc_auc}\")\n",
    "\n",
    "# Plotting the ROC\n",
    "plt.title('Receiver Operating Characteristic')\n",
    "plt.plot(fpr, tpr, 'b', label = 'AUC = %0.2f' % roc_auc)\n",
    "plt.legend(loc = 'lower right')\n",
    "plt.plot([0, 1], [0, 1],'r--')\n",
    "plt.xlim([0, 1])\n",
    "plt.ylim([0, 1])\n",
    "plt.ylabel('True Positive Rate')\n",
    "plt.xlabel('False Positive Rate')\n",
    "plt.show()\n",
    "\n",
    "print(\"Accuracy: \", classification_report(y_test, y_pred))\n"
   ]
  },
  {
   "cell_type": "code",
   "execution_count": 232,
   "id": "0ec14eac",
   "metadata": {},
   "outputs": [],
   "source": [
    "    from sklearn.neighbors import KNeighborsClassifier\n",
    "    knn= KNeighborsClassifier(n_neighbors = 5 , metric=\"euclidean\" , p=2)\n",
    "    knn.fit(X_train, y_train)\n",
    "    y_predict_knn = knn.predict(X_test)\n",
    "    x =accuracy_score(y_test, y_predict_knn)"
   ]
  },
  {
   "cell_type": "code",
   "execution_count": 233,
   "id": "654105b6",
   "metadata": {},
   "outputs": [
    {
     "data": {
      "text/plain": [
       "KNeighborsClassifier(metric='euclidean')"
      ]
     },
     "execution_count": 233,
     "metadata": {},
     "output_type": "execute_result"
    }
   ],
   "source": [
    "knn"
   ]
  },
  {
   "cell_type": "code",
   "execution_count": 234,
   "id": "000195de",
   "metadata": {},
   "outputs": [
    {
     "data": {
      "text/plain": [
       "<matplotlib.axes._subplots.AxesSubplot at 0x1b2fef46730>"
      ]
     },
     "execution_count": 234,
     "metadata": {},
     "output_type": "execute_result"
    },
    {
     "data": {
      "image/png": "[encoded data removed]",
      "text/plain": [
       "<Figure size 432x288 with 2 Axes>"
      ]
     },
     "metadata": {
      "needs_background": "light"
     },
     "output_type": "display_data"
    }
   ],
   "source": [
    "sns.heatmap(confusion_matrix(y_test, abc.predict(X_test)) ,annot=True, cmap='Blues')"
   ]
  },
  {
   "cell_type": "code",
   "execution_count": 235,
   "id": "e7ccb720",
   "metadata": {},
   "outputs": [],
   "source": [
    "#models classification function\n",
    "\n",
    "def class_model_fit(X_train , y_train , X_test , y_test):\n",
    "    #logistic regression\n",
    "    from sklearn.linear_model import LogisticRegression\n",
    "    logReg = LogisticRegression(random_state=2)\n",
    "    logReg.fit(X_train , y_train)\n",
    "    y_predict_log = logReg.predict(X_test)\n",
    "    logReg =accuracy_score(y_test, y_predict_log)\n",
    "    \n",
    "    #SVM linear\n",
    "    from sklearn.svm import SVC\n",
    "    svc_lineer = SVC(kernel =\"rbf\" , random_state=2)\n",
    "    svc_lineer.fit(X_train, y_train)\n",
    "    y_predict_svmlin = svc_lineer.predict(X_test)\n",
    "    svc_lineer =accuracy_score(y_test, y_predict_svmlin)\n",
    "     \n",
    "    #SVM rbf\n",
    "    from sklearn.svm import SVC\n",
    "    svc_rbf = SVC(kernel =\"linear\" , random_state=2)\n",
    "    svc_rbf.fit(X_train, y_train)\n",
    "    y_predict_svmrbf = svc_rbf.predict(X_test)\n",
    "    svc_rbf =accuracy_score(y_test, y_predict_svmrbf)\n",
    "    \n",
    "    #KNN\n",
    "    from sklearn.neighbors import KNeighborsClassifier\n",
    "    knn= KNeighborsClassifier(n_neighbors = 5 , metric=\"euclidean\" , p=2)\n",
    "    knn.fit(X_train, y_train)\n",
    "    y_predict_knn = knn.predict(X_test)\n",
    "    knn =accuracy_score(y_test, y_predict_knn)\n",
    "    \n",
    "    #GaussianNB\n",
    "    from sklearn.naive_bayes import GaussianNB\n",
    "    gauss = GaussianNB()\n",
    "    gauss.fit(X_train, y_train)\n",
    "    y_predict_nb = gauss.predict(X_test)\n",
    "    gauss =accuracy_score(y_test, y_predict_nb)\n",
    "    \n",
    "    #Decision Tree\n",
    "    from sklearn.tree import DecisionTreeClassifier\n",
    "    tree = DecisionTreeClassifier(criterion=\"entropy\" , random_state=2)\n",
    "    tree.fit(X_train, y_train)\n",
    "    y_predict_tree = tree.predict(X_test)\n",
    "    tree =accuracy_score(y_test, y_predict_tree)\n",
    "\n",
    "    #RandomForestClassifier\n",
    "    from sklearn.ensemble import RandomForestClassifier\n",
    "    randomForest = RandomForestClassifier(n_estimators=10 ,criterion=\"entropy\", random_state=2)\n",
    "    randomForest.fit(X_train, y_train)\n",
    "    y_predict_randomforest = randomForest.predict(X_test)\n",
    "    randomForest =accuracy_score(y_test, y_predict_randomforest)\n",
    "    \n",
    "    print(\"[0]Logistic Reg. training accuracy\" , logReg)\n",
    "    print(\"[1]KNN training accuracy**********\" , knn)\n",
    "    print(\"[2]svc_linear training accuracy***\" , svc_lineer)\n",
    "    print(\"[3]svc rbf accuracy***************\" , svc_rbf)\n",
    "    print(\"[4]Gausian Naive training accuracy\" , gauss)\n",
    "    print(\"[5]Decision Tree training accuracy\" , tree)\n",
    "    print(\"[6]Random Forest training accuracy\" , randomForest)\n",
    "    \n",
    "    \n",
    "    \n",
    "    \n",
    "    return y_predict_log , y_predict_svmlin , y_predict_svmrbf , y_predict_knn, y_predict_nb, y_predict_tree ,y_predict_randomforest\n"
   ]
  },
  {
   "cell_type": "code",
   "execution_count": 236,
   "id": "a2020994",
   "metadata": {},
   "outputs": [
    {
     "data": {
      "text/plain": [
       "\"\\nfrom imblearn.over_sampling import SMOTENC\\nsm = SMOTENC(random_state=42, categorical_features=[0,1])\\nX_res, y_res = sm.fit_resample(X_train.astype('str'), y_train)\\n\""
      ]
     },
     "execution_count": 236,
     "metadata": {},
     "output_type": "execute_result"
    }
   ],
   "source": [
    "\"\"\"\n",
    "from imblearn.over_sampling import SMOTENC\n",
    "sm = SMOTENC(random_state=42, categorical_features=[0,1])\n",
    "X_res, y_res = sm.fit_resample(X_train.astype('str'), y_train)\n",
    "\"\"\""
   ]
  },
  {
   "cell_type": "code",
   "execution_count": null,
   "id": "7cc80518",
   "metadata": {},
   "outputs": [],
   "source": [
    "SMOTE-NC"
   ]
  },
  {
   "cell_type": "code",
   "execution_count": null,
   "id": "2b6c7b04",
   "metadata": {},
   "outputs": [],
   "source": [
    "from sklearn.ensemble import RandomForestClassifier\n",
    "randomForest = RandomForestClassifier(n_estimators=10 ,criterion=\"entropy\", random_state=2)\n",
    "randomForest.fit(X_train, y_train)\n",
    "y_predict_randomforest = randomForest.predict(X_test)\n",
    "x =accuracy_score(y_test, y_predict_randomforest)\n",
    "y = auc_score(y_test, y_predict_randomforest)"
   ]
  },
  {
   "cell_type": "code",
   "execution_count": null,
   "id": "dd4f7b02",
   "metadata": {},
   "outputs": [],
   "source": []
  },
  {
   "cell_type": "code",
   "execution_count": null,
   "id": "9feee15c",
   "metadata": {},
   "outputs": [],
   "source": [
    "#class_model_fit(X_train_random , y_train_random,X_test_all, y_test_all )"
   ]
  },
  {
   "cell_type": "code",
   "execution_count": null,
   "id": "4df913d1",
   "metadata": {},
   "outputs": [],
   "source": [
    "def plot_pr_curve(test_y, model_probs):\n",
    "    # calculate the no skill line as the proportion of the positive class\n",
    "    no_skill = len(y_test[y_test==1]) / len(y_test)\n",
    "    # plot the no skill precision-recall curve\n",
    "    pyplot.plot([0, 1], [no_skill, no_skill], linestyle='--', label='No Skill')\n",
    "    # plot model precision-recall curve\n",
    "    precision, recall, _ = precision_recall_curve(y_test, model_probs, pos_label=1)\n",
    "    pyplot.plot(recall, precision, marker='.', label='Logistic')\n",
    "    # axis labels\n",
    "    pyplot.xlabel('Recall')\n",
    "    pyplot.ylabel('Precision')\n",
    "    # show the legend\n",
    "    pyplot.legend()\n",
    "    # show the plot\n",
    "    pyplot.show()"
   ]
  },
  {
   "cell_type": "code",
   "execution_count": null,
   "id": "14f576da",
   "metadata": {},
   "outputs": [],
   "source": [
    "# pr curve and pr auc on an imbalanced dataset\n",
    "from sklearn.datasets import make_classification\n",
    "from sklearn.dummy import DummyClassifier\n",
    "from sklearn.linear_model import LogisticRegression\n",
    "from sklearn.model_selection import train_test_split\n",
    "from sklearn.metrics import precision_recall_curve\n",
    "from sklearn.metrics import auc\n",
    "from matplotlib import pyplot\n",
    "\n",
    "from sklearn.metrics import precision_recall_curve\n",
    "from sklearn.dummy import DummyClassifier\n",
    "model = DummyClassifier(strategy='stratified')\n",
    "model.fit(X_train, y_train)\n",
    "yhat = model.predict_proba(X_test)\n",
    "naive_probs = yhat[:, 1]\n",
    "# calculate the precision-recall auc\n",
    "precision, recall, _ = precision_recall_curve(y_test, naive_probs , pos_label=1)\n",
    "auc_score = auc(recall, precision)\n",
    "print('No Skill PR AUC: %.3f' % auc_score)\n",
    "# fit a model\n",
    "model = LogisticRegression(solver='lbfgs')\n",
    "model.fit(X_train, y_train)\n",
    "yhat = model.predict_proba(X_test)\n",
    "model_probs = yhat[:, 1]\n",
    "# calculate the precision-recall auc\n",
    "precision, recall, _ = precision_recall_curve(y_test, model_probs, pos_label=1)\n",
    "auc_score = auc(recall, precision)\n",
    "print('Logistic PR AUC: %.3f' % auc_score)\n",
    "# plot precision-recall curves\n",
    "plot_pr_curve(y_test, model_probs)"
   ]
  },
  {
   "cell_type": "code",
   "execution_count": null,
   "id": "ad11d93e",
   "metadata": {},
   "outputs": [],
   "source": []
  },
  {
   "cell_type": "code",
   "execution_count": null,
   "id": "30ce6270",
   "metadata": {},
   "outputs": [],
   "source": [
    "y_pred = model.predict(X_test)"
   ]
  },
  {
   "cell_type": "code",
   "execution_count": null,
   "id": "c44e2db1",
   "metadata": {},
   "outputs": [],
   "source": [
    "from sklearn.metrics import accuracy_score\n",
    "accuracy_score(y_test, y_pred)"
   ]
  },
  {
   "cell_type": "code",
   "execution_count": null,
   "id": "ea868115",
   "metadata": {},
   "outputs": [],
   "source": [
    "!pip install scikitplot"
   ]
  },
  {
   "cell_type": "code",
   "execution_count": null,
   "id": "cff167a0",
   "metadata": {},
   "outputs": [],
   "source": [
    "# Importing all necessary libraries\n",
    "from sklearn.metrics import roc_curve, auc\n",
    "\n",
    "class_probabilities = model.predict_proba(X_test)\n",
    "preds = class_probabilities[:, 1]\n",
    "\n",
    "fpr, tpr, threshold = roc_curve(y_test, preds,pos_label=1)\n",
    "roc_auc = auc(fpr, tpr)\n",
    "\n",
    "# Printing AUC\n",
    "print(f\"AUC for our classifier is: {roc_auc}\")\n",
    "\n",
    "# Plotting the ROC\n",
    "plt.title('Receiver Operating Characteristic')\n",
    "plt.plot(fpr, tpr, 'b', label = 'AUC = %0.2f' % roc_auc)\n",
    "plt.legend(loc = 'lower right')\n",
    "plt.plot([0, 1], [0, 1],'r--')\n",
    "plt.xlim([0, 1])\n",
    "plt.ylim([0, 1])\n",
    "plt.ylabel('True Positive Rate')\n",
    "plt.xlabel('False Positive Rate')\n",
    "plt.show()\n"
   ]
  },
  {
   "cell_type": "code",
   "execution_count": null,
   "id": "f3af46a1",
   "metadata": {},
   "outputs": [],
   "source": [
    "accuracy_score(y_test,y_pred)"
   ]
  },
  {
   "cell_type": "code",
   "execution_count": null,
   "id": "811bfdb6",
   "metadata": {},
   "outputs": [],
   "source": [
    "#### DEEEP LEARNING İLE"
   ]
  },
  {
   "cell_type": "code",
   "execution_count": null,
   "id": "b4efc556",
   "metadata": {},
   "outputs": [],
   "source": [
    "import numpy as np\n",
    "import tensorflow as tf\n",
    "\n",
    "# import keras libraries\n",
    "import keras\n",
    "from keras.models import load_model\n",
    "from keras.datasets import mnist\n",
    "from keras.models import Sequential\n",
    "from keras.layers import Dense, Dropout, Flatten\n",
    "from keras.optimizers import RMSprop\n",
    "from keras.callbacks import EarlyStopping\n",
    "\n",
    "# import visualization libraries\n",
    "import seaborn as sns\n",
    "import matplotlib.pyplot as plt\n",
    "from scipy import stats\n"
   ]
  },
  {
   "cell_type": "code",
   "execution_count": null,
   "id": "7a055223",
   "metadata": {},
   "outputs": [],
   "source": [
    "X_train.shape"
   ]
  },
  {
   "cell_type": "code",
   "execution_count": 1109,
   "id": "542e60db",
   "metadata": {},
   "outputs": [
    {
     "name": "stdout",
     "output_type": "stream",
     "text": [
      "Model: \"sequential_3\"\n",
      "_________________________________________________________________\n",
      " Layer (type)                Output Shape              Param #   \n",
      "=================================================================\n",
      " flatten_3 (Flatten)         (None, 37554)             0         \n",
      "                                                                 \n",
      " dense_9 (Dense)             (None, 320)               12017600  \n",
      "                                                                 \n",
      " dense_10 (Dense)            (None, 32)                10272     \n",
      "                                                                 \n",
      " dense_11 (Dense)            (None, 10)                330       \n",
      "                                                                 \n",
      "=================================================================\n",
      "Total params: 12,028,202\n",
      "Trainable params: 12,028,202\n",
      "Non-trainable params: 0\n",
      "_________________________________________________________________\n"
     ]
    }
   ],
   "source": [
    "model = Sequential()\n",
    "model.add(Flatten(input_shape= (18777, 2) )) \n",
    "model.add(Dense(320, activation = 'relu'))\n",
    "model.add(Dense(32, activation = 'relu')) \n",
    "model.add(Dense(10, activation = 'softmax')) \n",
    "\n",
    "model.build()\n",
    "model.summary() "
   ]
  },
  {
   "cell_type": "code",
   "execution_count": 1110,
   "id": "ba8b31ca",
   "metadata": {},
   "outputs": [
    {
     "name": "stdout",
     "output_type": "stream",
     "text": [
      "Loss function: mse\n",
      "Optimizer: <keras.optimizers.optimizer_v2.gradient_descent.SGD object at 0x000001F9A73BC040>\n",
      "Metrics: []\n"
     ]
    }
   ],
   "source": [
    "# compile the model\n",
    "model.compile(loss='mse',\n",
    "              optimizer='sgd',\n",
    "              metrics=['accuracy'])\n",
    "\n",
    "# print the attributes of the model to ensure they're correct\n",
    "print(\"Loss function: \" + model.loss)\n",
    "print(\"Optimizer: \" + str(model.optimizer))\n",
    "print(\"Metrics: \" + str(model.metrics))"
   ]
  }
 ],
 "metadata": {
  "kernelspec": {
   "display_name": "Python 3 (ipykernel)",
   "language": "python",
   "name": "python3"
  },
  "language_info": {
   "codemirror_mode": {
    "name": "ipython",
    "version": 3
   },
   "file_extension": ".py",
   "mimetype": "text/x-python",
   "name": "python",
   "nbconvert_exporter": "python",
   "pygments_lexer": "ipython3",
   "version": "3.8.13"
  }
 },
 "nbformat": 4,
 "nbformat_minor": 5
}
